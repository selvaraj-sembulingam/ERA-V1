{
  "nbformat": 4,
  "nbformat_minor": 0,
  "metadata": {
    "colab": {
      "provenance": [],
      "gpuType": "T4"
    },
    "kernelspec": {
      "name": "python3",
      "display_name": "Python 3"
    },
    "language_info": {
      "name": "python"
    },
    "accelerator": "GPU"
  },
  "cells": [
    {
      "cell_type": "code",
      "source": [
        "!git clone https://github.com/selvaraj-sembulingam/ERA-V1.git\n",
        "%cd ERA-V1/Assignments/S10"
      ],
      "metadata": {
        "colab": {
          "base_uri": "https://localhost:8080/"
        },
        "id": "7iGDCsDurLoH",
        "outputId": "d1968a50-3b65-47c9-fad0-ba0d4a33b6db"
      },
      "execution_count": 1,
      "outputs": [
        {
          "output_type": "stream",
          "name": "stdout",
          "text": [
            "Cloning into 'ERA-V1'...\n",
            "remote: Enumerating objects: 803, done.\u001b[K\n",
            "remote: Counting objects: 100% (207/207), done.\u001b[K\n",
            "remote: Compressing objects: 100% (122/122), done.\u001b[K\n",
            "remote: Total 803 (delta 101), reused 171 (delta 85), pack-reused 596\u001b[K\n",
            "Receiving objects: 100% (803/803), 50.76 MiB | 37.48 MiB/s, done.\n",
            "Resolving deltas: 100% (293/293), done.\n",
            "/content/ERA-V1/Assignments/S10\n"
          ]
        }
      ]
    },
    {
      "cell_type": "markdown",
      "source": [
        "## Install Dependencies"
      ],
      "metadata": {
        "id": "qNTlmirZNRzW"
      }
    },
    {
      "cell_type": "code",
      "source": [
        "!pip install -q torchsummary\n",
        "!pip install -q albumentations\n",
        "!pip install -q torch_lr_finder"
      ],
      "metadata": {
        "id": "QdFYJGg76eMK"
      },
      "execution_count": 2,
      "outputs": []
    },
    {
      "cell_type": "markdown",
      "source": [
        "## Model Summary"
      ],
      "metadata": {
        "id": "EJk9w_DqNZ0G"
      }
    },
    {
      "cell_type": "code",
      "source": [
        "from src.utils import model_summary\n",
        "model_summary()"
      ],
      "metadata": {
        "colab": {
          "base_uri": "https://localhost:8080/"
        },
        "id": "D-9RTeJD5s0i",
        "outputId": "4ce5cdd9-322f-49c2-e0fa-2b4c882c217a"
      },
      "execution_count": 3,
      "outputs": [
        {
          "output_type": "stream",
          "name": "stdout",
          "text": [
            "----------------------------------------------------------------\n",
            "        Layer (type)               Output Shape         Param #\n",
            "================================================================\n",
            "            Conv2d-1           [-1, 64, 32, 32]           1,728\n",
            "       BatchNorm2d-2           [-1, 64, 32, 32]             128\n",
            "              ReLU-3           [-1, 64, 32, 32]               0\n",
            "            Conv2d-4          [-1, 128, 32, 32]          73,728\n",
            "         MaxPool2d-5          [-1, 128, 16, 16]               0\n",
            "       BatchNorm2d-6          [-1, 128, 16, 16]             256\n",
            "              ReLU-7          [-1, 128, 16, 16]               0\n",
            "            Conv2d-8          [-1, 128, 16, 16]         147,456\n",
            "       BatchNorm2d-9          [-1, 128, 16, 16]             256\n",
            "             ReLU-10          [-1, 128, 16, 16]               0\n",
            "           Conv2d-11          [-1, 128, 16, 16]         147,456\n",
            "      BatchNorm2d-12          [-1, 128, 16, 16]             256\n",
            "             ReLU-13          [-1, 128, 16, 16]               0\n",
            "           Conv2d-14          [-1, 256, 16, 16]         294,912\n",
            "        MaxPool2d-15            [-1, 256, 8, 8]               0\n",
            "      BatchNorm2d-16            [-1, 256, 8, 8]             512\n",
            "             ReLU-17            [-1, 256, 8, 8]               0\n",
            "           Conv2d-18            [-1, 512, 8, 8]       1,179,648\n",
            "        MaxPool2d-19            [-1, 512, 4, 4]               0\n",
            "      BatchNorm2d-20            [-1, 512, 4, 4]           1,024\n",
            "             ReLU-21            [-1, 512, 4, 4]               0\n",
            "           Conv2d-22            [-1, 512, 4, 4]       2,359,296\n",
            "      BatchNorm2d-23            [-1, 512, 4, 4]           1,024\n",
            "             ReLU-24            [-1, 512, 4, 4]               0\n",
            "           Conv2d-25            [-1, 512, 4, 4]       2,359,296\n",
            "      BatchNorm2d-26            [-1, 512, 4, 4]           1,024\n",
            "             ReLU-27            [-1, 512, 4, 4]               0\n",
            "        MaxPool2d-28            [-1, 512, 1, 1]               0\n",
            "           Linear-29                   [-1, 10]           5,130\n",
            "================================================================\n",
            "Total params: 6,573,130\n",
            "Trainable params: 6,573,130\n",
            "Non-trainable params: 0\n",
            "----------------------------------------------------------------\n",
            "Input size (MB): 0.01\n",
            "Forward/backward pass size (MB): 6.44\n",
            "Params size (MB): 25.07\n",
            "Estimated Total Size (MB): 31.53\n",
            "----------------------------------------------------------------\n"
          ]
        }
      ]
    },
    {
      "cell_type": "markdown",
      "source": [
        "## Training"
      ],
      "metadata": {
        "id": "8W84Y36kNepq"
      }
    },
    {
      "cell_type": "code",
      "source": [
        "!python train.py"
      ],
      "metadata": {
        "colab": {
          "base_uri": "https://localhost:8080/"
        },
        "id": "tjAe7zfYtfJB",
        "outputId": "5cd69825-f849-42f3-d8ca-2784848ba508"
      },
      "execution_count": 4,
      "outputs": [
        {
          "output_type": "stream",
          "name": "stdout",
          "text": [
            "Downloading https://www.cs.toronto.edu/~kriz/cifar-10-python.tar.gz to ../data/cifar-10-python.tar.gz\n",
            "100% 170498071/170498071 [00:02<00:00, 84961374.79it/s]\n",
            "Extracting ../data/cifar-10-python.tar.gz to ../data\n",
            "Files already downloaded and verified\n",
            "Epoch 0, Learning Rate: 0.000479\n",
            "Train: Loss=1.1917 Batch_id=97 Accuracy=46.28: 100% 98/98 [00:20<00:00,  4.83it/s]\n",
            "Test set: Average loss: 0.0026, Accuracy: 5614/10000 (56.14%)\n",
            "\n",
            "Epoch 1, Learning Rate: 0.00998259509202454\n",
            "Train: Loss=0.8884 Batch_id=97 Accuracy=62.86: 100% 98/98 [00:20<00:00,  4.75it/s]\n",
            "Test set: Average loss: 0.0029, Accuracy: 5913/10000 (59.13%)\n",
            "\n",
            "Epoch 2, Learning Rate: 0.01948619018404908\n",
            "Train: Loss=0.8242 Batch_id=97 Accuracy=71.06: 100% 98/98 [00:20<00:00,  4.83it/s]\n",
            "Test set: Average loss: 0.0023, Accuracy: 6806/10000 (68.06%)\n",
            "\n",
            "Epoch 3, Learning Rate: 0.028989785276073616\n",
            "Train: Loss=0.6724 Batch_id=97 Accuracy=77.12: 100% 98/98 [00:20<00:00,  4.90it/s]\n",
            "Test set: Average loss: 0.0016, Accuracy: 7389/10000 (73.89%)\n",
            "\n",
            "Epoch 4, Learning Rate: 0.03849338036809816\n",
            "Train: Loss=0.6107 Batch_id=97 Accuracy=79.62: 100% 98/98 [00:20<00:00,  4.72it/s]\n",
            "Test set: Average loss: 0.0014, Accuracy: 7682/10000 (76.82%)\n",
            "\n",
            "Epoch 5, Learning Rate: 0.04787427754564984\n",
            "Train: Loss=0.5300 Batch_id=97 Accuracy=82.01: 100% 98/98 [00:21<00:00,  4.65it/s]\n",
            "Test set: Average loss: 0.0013, Accuracy: 7904/10000 (79.04%)\n",
            "\n",
            "Epoch 6, Learning Rate: 0.045353477019334044\n",
            "Train: Loss=0.4083 Batch_id=97 Accuracy=84.15: 100% 98/98 [00:21<00:00,  4.65it/s]\n",
            "Test set: Average loss: 0.0012, Accuracy: 8167/10000 (81.67%)\n",
            "\n",
            "Epoch 7, Learning Rate: 0.04283267649301826\n",
            "Train: Loss=0.4363 Batch_id=97 Accuracy=86.76: 100% 98/98 [00:20<00:00,  4.76it/s]\n",
            "Test set: Average loss: 0.0008, Accuracy: 8603/10000 (86.03%)\n",
            "\n",
            "Epoch 8, Learning Rate: 0.040311875966702465\n",
            "Train: Loss=0.3193 Batch_id=97 Accuracy=87.58: 100% 98/98 [00:20<00:00,  4.87it/s]\n",
            "Test set: Average loss: 0.0010, Accuracy: 8451/10000 (84.51%)\n",
            "\n",
            "Epoch 9, Learning Rate: 0.03779107544038668\n",
            "Train: Loss=0.3245 Batch_id=97 Accuracy=89.05: 100% 98/98 [00:20<00:00,  4.67it/s]\n",
            "Test set: Average loss: 0.0009, Accuracy: 8570/10000 (85.70%)\n",
            "\n",
            "Epoch 10, Learning Rate: 0.03527027491407089\n",
            "Train: Loss=0.2308 Batch_id=97 Accuracy=89.91: 100% 98/98 [00:20<00:00,  4.74it/s]\n",
            "Test set: Average loss: 0.0009, Accuracy: 8677/10000 (86.77%)\n",
            "\n",
            "Epoch 11, Learning Rate: 0.0327494743877551\n",
            "Train: Loss=0.2800 Batch_id=97 Accuracy=90.68: 100% 98/98 [00:20<00:00,  4.85it/s]\n",
            "Test set: Average loss: 0.0009, Accuracy: 8677/10000 (86.77%)\n",
            "\n",
            "Epoch 12, Learning Rate: 0.03022867386143931\n",
            "Train: Loss=0.2032 Batch_id=97 Accuracy=91.53: 100% 98/98 [00:20<00:00,  4.85it/s]\n",
            "Test set: Average loss: 0.0007, Accuracy: 8908/10000 (89.08%)\n",
            "\n",
            "Epoch 13, Learning Rate: 0.02770787333512352\n",
            "Train: Loss=0.1639 Batch_id=97 Accuracy=92.28: 100% 98/98 [00:21<00:00,  4.63it/s]\n",
            "Test set: Average loss: 0.0008, Accuracy: 8763/10000 (87.63%)\n",
            "\n",
            "Epoch 14, Learning Rate: 0.02518707280880773\n",
            "Train: Loss=0.1529 Batch_id=97 Accuracy=92.94: 100% 98/98 [00:20<00:00,  4.68it/s]\n",
            "Test set: Average loss: 0.0007, Accuracy: 8971/10000 (89.71%)\n",
            "\n",
            "Epoch 15, Learning Rate: 0.02266627228249194\n",
            "Train: Loss=0.1142 Batch_id=97 Accuracy=93.87: 100% 98/98 [00:20<00:00,  4.84it/s]\n",
            "Test set: Average loss: 0.0007, Accuracy: 8964/10000 (89.64%)\n",
            "\n",
            "Epoch 16, Learning Rate: 0.020145471756176155\n",
            "Train: Loss=0.1392 Batch_id=97 Accuracy=94.65: 100% 98/98 [00:20<00:00,  4.85it/s]\n",
            "Test set: Average loss: 0.0007, Accuracy: 8962/10000 (89.62%)\n",
            "\n",
            "Epoch 17, Learning Rate: 0.01762467122986036\n",
            "Train: Loss=0.1766 Batch_id=97 Accuracy=95.21: 100% 98/98 [00:21<00:00,  4.65it/s]\n",
            "Test set: Average loss: 0.0006, Accuracy: 9072/10000 (90.72%)\n",
            "\n",
            "Epoch 18, Learning Rate: 0.015103870703544568\n",
            "Train: Loss=0.1459 Batch_id=97 Accuracy=96.02: 100% 98/98 [00:20<00:00,  4.68it/s]\n",
            "Test set: Average loss: 0.0006, Accuracy: 9173/10000 (91.73%)\n",
            "\n",
            "Epoch 19, Learning Rate: 0.012583070177228782\n",
            "Train: Loss=0.0859 Batch_id=97 Accuracy=96.68: 100% 98/98 [00:20<00:00,  4.86it/s]\n",
            "Test set: Average loss: 0.0006, Accuracy: 9152/10000 (91.52%)\n",
            "\n",
            "Epoch 20, Learning Rate: 0.010062269650912989\n",
            "Train: Loss=0.0877 Batch_id=97 Accuracy=97.26: 100% 98/98 [00:20<00:00,  4.89it/s]\n",
            "Test set: Average loss: 0.0006, Accuracy: 9214/10000 (92.14%)\n",
            "\n",
            "Epoch 21, Learning Rate: 0.007541469124597203\n",
            "Train: Loss=0.0708 Batch_id=97 Accuracy=97.83: 100% 98/98 [00:21<00:00,  4.64it/s]\n",
            "Test set: Average loss: 0.0006, Accuracy: 9239/10000 (92.39%)\n",
            "\n",
            "Epoch 22, Learning Rate: 0.005020668598281416\n",
            "Train: Loss=0.0299 Batch_id=97 Accuracy=98.34: 100% 98/98 [00:20<00:00,  4.72it/s]\n",
            "Test set: Average loss: 0.0006, Accuracy: 9243/10000 (92.43%)\n",
            "\n",
            "Epoch 23, Learning Rate: 0.00249986807196563\n",
            "Train: Loss=0.0445 Batch_id=97 Accuracy=98.59: 100% 98/98 [00:20<00:00,  4.85it/s]\n",
            "Test set: Average loss: 0.0006, Accuracy: 9253/10000 (92.53%)\n",
            "\n",
            "[INFO] Saving model to: results/CustomResNet.pth\n"
          ]
        }
      ]
    },
    {
      "cell_type": "code",
      "source": [],
      "metadata": {
        "id": "kQ0kki7sQjq3"
      },
      "execution_count": null,
      "outputs": []
    }
  ]
}