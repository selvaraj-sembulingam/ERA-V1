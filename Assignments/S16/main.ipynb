{
  "metadata": {
    "kernelspec": {
      "language": "python",
      "display_name": "Python 3",
      "name": "python3"
    },
    "language_info": {
      "name": "python",
      "version": "3.10.12",
      "mimetype": "text/x-python",
      "codemirror_mode": {
        "name": "ipython",
        "version": 3
      },
      "pygments_lexer": "ipython3",
      "nbconvert_exporter": "python",
      "file_extension": ".py"
    },
    "colab": {
      "provenance": []
    }
  },
  "nbformat_minor": 0,
  "nbformat": 4,
  "cells": [
    {
      "cell_type": "code",
      "source": [
        "!pip install -q datasets tokenizers torchmetrics pytorch_lightning"
      ],
      "metadata": {
        "_uuid": "8f2839f25d086af736a60e9eeb907d3b93b6e0e5",
        "_cell_guid": "b1076dfc-b9ad-4769-8c92-a6c4dae69d19",
        "execution": {
          "iopub.status.busy": "2023-09-08T14:43:39.314543Z",
          "iopub.execute_input": "2023-09-08T14:43:39.315000Z",
          "iopub.status.idle": "2023-09-08T14:43:52.893896Z",
          "shell.execute_reply.started": "2023-09-08T14:43:39.314960Z",
          "shell.execute_reply": "2023-09-08T14:43:52.892656Z"
        },
        "trusted": true,
        "id": "jqU4VODbexdu"
      },
      "execution_count": null,
      "outputs": []
    },
    {
      "cell_type": "code",
      "source": [
        "from config import get_config\n",
        "cfg = get_config()\n",
        "\n",
        "from train import train_model\n",
        "import torch\n",
        "torch.cuda.amp.autocast(enabled=True)\n",
        "\n",
        "train_model(cfg)"
      ],
      "metadata": {
        "execution": {
          "iopub.status.busy": "2023-09-08T14:43:52.974137Z",
          "iopub.execute_input": "2023-09-08T14:43:52.974488Z"
        },
        "trusted": true,
        "colab": {
          "referenced_widgets": [
            "ba0b78cc221e425facf2a5525af10b97",
            "763071fdacd246c2976c1d44ae86a6e3",
            "6bf56174967c4b83af2322789e1814af",
            ""
          ]
        },
        "id": "lYps12PCexd3",
        "outputId": "8a848eef-9b69-428e-e68b-732494c99299"
      },
      "execution_count": null,
      "outputs": [
        {
          "name": "stderr",
          "text": "/opt/conda/lib/python3.10/site-packages/scipy/__init__.py:146: UserWarning: A NumPy version >=1.16.5 and <1.23.0 is required for this version of SciPy (detected version 1.23.5\n  warnings.warn(f\"A NumPy version >={np_minversion} and <{np_maxversion}\"\n",
          "output_type": "stream"
        },
        {
          "name": "stdout",
          "text": "Using device: cuda\n",
          "output_type": "stream"
        },
        {
          "output_type": "display_data",
          "data": {
            "text/plain": "Downloading builder script:   0%|          | 0.00/2.40k [00:00<?, ?B/s]",
            "application/vnd.jupyter.widget-view+json": {
              "version_major": 2,
              "version_minor": 0,
              "model_id": "ba0b78cc221e425facf2a5525af10b97"
            }
          },
          "metadata": {}
        },
        {
          "output_type": "display_data",
          "data": {
            "text/plain": "Downloading metadata:   0%|          | 0.00/7.98k [00:00<?, ?B/s]",
            "application/vnd.jupyter.widget-view+json": {
              "version_major": 2,
              "version_minor": 0,
              "model_id": "763071fdacd246c2976c1d44ae86a6e3"
            }
          },
          "metadata": {}
        },
        {
          "name": "stdout",
          "text": "Downloading and preparing dataset opus_books/en-fr (download: 11.45 MiB, generated: 31.47 MiB, post-processed: Unknown size, total: 42.92 MiB) to /root/.cache/huggingface/datasets/opus_books/en-fr/1.0.0/e8f950a4f32dc39b7f9088908216cd2d7e21ac35f893d04d39eb594746af2daf...\n",
          "output_type": "stream"
        },
        {
          "output_type": "display_data",
          "data": {
            "text/plain": "Downloading data:   0%|          | 0.00/12.0M [00:00<?, ?B/s]",
            "application/vnd.jupyter.widget-view+json": {
              "version_major": 2,
              "version_minor": 0,
              "model_id": "6bf56174967c4b83af2322789e1814af"
            }
          },
          "metadata": {}
        },
        {
          "output_type": "display_data",
          "data": {
            "text/plain": "Generating train split:   0%|          | 0/127085 [00:00<?, ? examples/s]",
            "application/vnd.jupyter.widget-view+json": {
              "version_major": 2,
              "version_minor": 0,
              "model_id": ""
            }
          },
          "metadata": {}
        },
        {
          "name": "stdout",
          "text": "Dataset opus_books downloaded and prepared to /root/.cache/huggingface/datasets/opus_books/en-fr/1.0.0/e8f950a4f32dc39b7f9088908216cd2d7e21ac35f893d04d39eb594746af2daf. Subsequent calls will reuse this data.\nMax length of source sentence: 471\nMax length of target sentence: 482\n",
          "output_type": "stream"
        },
        {
          "name": "stderr",
          "text": "Processing Epoch 00: 100%|██████████| 1930/1930 [03:40<00:00,  8.74it/s, loss=5.227]\nstty: 'standard input': Inappropriate ioctl for device\n",
          "output_type": "stream"
        },
        {
          "name": "stdout",
          "text": "Average loss of epoch 0 is 5.732171327709534\n--------------------------------------------------------------------------------\n    SOURCE: However much I might respect the intelligence of our quadrupeds, I hardly cared to put it to the test by trusting myself to it on horseback across an arm of the sea.\n    TARGET: Quelle que fût l'intelligence de nos chevaux, je n'augurais pas bien de la traversée d'un véritable bras de mer opérée sur le dos d'un quadrupède.\n PREDICTED: Tout à peine je ne pas à notre Majesté , je ne pas à la mer à la porte de la porte .\n--------------------------------------------------------------------------------\n    SOURCE: It must have been most irksome to find herself bound by a hard-wrung pledge to stand in the stead of a parent to a strange child she could not love, and to see an uncongenial alien permanently intruded on her own family group.\n    TARGET: Il était pénible pour elle de s'être engagée par un serment forcé à servir de mère à une enfant qu'elle ne pouvait pas aimer, et de la voir ainsi s'introduire dans sa propre famille.\n PREDICTED: Il faut qu ’ il eût été été à la de la , pour les , et elle ne pouvait pas un mot .\n--------------------------------------------------------------------------------\n",
          "output_type": "stream"
        },
        {
          "name": "stderr",
          "text": "Processing Epoch 01: 100%|██████████| 1930/1930 [03:38<00:00,  8.85it/s, loss=4.110]\nstty: 'standard input': Inappropriate ioctl for device\n",
          "output_type": "stream"
        },
        {
          "name": "stdout",
          "text": "Average loss of epoch 1 is 4.374299203175955\n--------------------------------------------------------------------------------\n    SOURCE: \"Oh! I didn't want to complain.\n    TARGET: —Oh! ce n'est pas pour me plaindre.\n PREDICTED: -- Oh ! je ne sais pas , je ne me pas .\n--------------------------------------------------------------------------------\n    SOURCE: I told him that I was his mother.\n    TARGET: Je lui dis que j'étais sa mère.\n PREDICTED: Je lui dis que je lui ai sa mère .\n--------------------------------------------------------------------------------\n",
          "output_type": "stream"
        },
        {
          "name": "stderr",
          "text": "Processing Epoch 02: 100%|██████████| 1930/1930 [03:38<00:00,  8.83it/s, loss=3.831]\nstty: 'standard input': Inappropriate ioctl for device\n",
          "output_type": "stream"
        },
        {
          "name": "stdout",
          "text": "Average loss of epoch 2 is 3.7834706154512\n--------------------------------------------------------------------------------\n    SOURCE: A half hour afterward, d’Artagnan returned with the two thousand livres, and without having met with any accident.\n    TARGET: Une demi-heure après, d'Artagnan revint avec les deux mille livres et sans qu'il lui fût arrivé aucun accident.\n PREDICTED: Une heure après , d ' Artagnan rentra avec les deux livres , et sans avoir rencontré avec un accident .\n--------------------------------------------------------------------------------\n    SOURCE: You know very well that I've never deceived you.\n    TARGET: Vous savez bien que je ne vous ai jamais trompés, moi.\n PREDICTED: Vous connaissez bien que je ne vous ai pas trompé .\n--------------------------------------------------------------------------------\n",
          "output_type": "stream"
        },
        {
          "name": "stderr",
          "text": "Processing Epoch 03: 100%|██████████| 1930/1930 [03:38<00:00,  8.83it/s, loss=3.434]\nstty: 'standard input': Inappropriate ioctl for device\n",
          "output_type": "stream"
        },
        {
          "name": "stdout",
          "text": "Average loss of epoch 3 is 3.4496463009730522\n--------------------------------------------------------------------------------\n    SOURCE: You will be a very happy woman.\"\n    TARGET: Vous serez une femme heureuse.\n PREDICTED: Vous serez heureuse , vous êtes heureuse .\n--------------------------------------------------------------------------------\n    SOURCE: And it was thus that a new corner of his unconscious nature came to be revealed.\n    TARGET: Et c'est ainsi qu'un nouveau coin de sa nature inconsciente venait de se révéler; il s'était mis à rêver l'assassinat dans les emportements de l'adultère.\n PREDICTED: Et ce fut ainsi que un nouveau coin de son corps , la nature vint se battre .\n--------------------------------------------------------------------------------\n",
          "output_type": "stream"
        },
        {
          "name": "stderr",
          "text": "Processing Epoch 04: 100%|██████████| 1930/1930 [03:39<00:00,  8.81it/s, loss=3.562]\nstty: 'standard input': Inappropriate ioctl for device\n",
          "output_type": "stream"
        },
        {
          "name": "stdout",
          "text": "Average loss of epoch 4 is 3.232955578571774\n--------------------------------------------------------------------------------\n    SOURCE: \"I advise Mr. Darcy, and Lizzy, and Kitty,\" said Mrs. Bennet, \"to walk to Oakham Mount this morning.\n    TARGET: – Je conseillerai a Mr. Darcy, a Lizzy et a Kitty, dit Mrs.\n PREDICTED: – Je me , Jane , et Kitty , dit Mrs . Darcy , de marcher , de marcher au mont matin .\n--------------------------------------------------------------------------------\n    SOURCE: 'Yes!' shouted Alice.\n    TARGET: « Oui, » cria Alice.\n PREDICTED: « Oui ! » cria Alice .\n--------------------------------------------------------------------------------\n",
          "output_type": "stream"
        },
        {
          "name": "stderr",
          "text": "Processing Epoch 05: 100%|██████████| 1930/1930 [03:39<00:00,  8.80it/s, loss=2.853]\nstty: 'standard input': Inappropriate ioctl for device\n",
          "output_type": "stream"
        },
        {
          "name": "stdout",
          "text": "Average loss of epoch 5 is 2.9951259666156274\n--------------------------------------------------------------------------------\n    SOURCE: The Hatter opened his eyes very wide on hearing this; but all he said was, 'Why is a raven like a writing-desk?'\n    TARGET: À ces mots le Chapelier ouvrit de grands yeux ; mais il se contenta de dire : « Pourquoi une pie ressemble-t-elle à un pupitre ? »\n PREDICTED: Le Chapelier ouvrit les yeux fort grands à entendre cette remarque ; mais tout ce qu ’ il disait , c ’ est un piège comme un de bureau .\n--------------------------------------------------------------------------------\n    SOURCE: THE GREAT GAME\n    TARGET: LE GRAND JEU\n PREDICTED: LA\n--------------------------------------------------------------------------------\n",
          "output_type": "stream"
        },
        {
          "name": "stderr",
          "text": "Processing Epoch 06: 100%|██████████| 1930/1930 [03:38<00:00,  8.82it/s, loss=2.790]\nstty: 'standard input': Inappropriate ioctl for device\n",
          "output_type": "stream"
        },
        {
          "name": "stdout",
          "text": "Average loss of epoch 6 is 2.6799374875627033\n--------------------------------------------------------------------------------\n    SOURCE: No outlet was observed in any portion of its vast extent, and no torch or other artificial source of light was discernible; yet a flood of intense rays rolled throughout, and bathed the whole in a ghastly and inappropriate splendor.\n    TARGET: On n'apercevait aucune issue dans son immense parcours; on ne distinguait aucune torche, aucune source artificielle de lumière; et cependant une effusion de rayons intenses roulait de l'un à l'autre bout et baignait le tout d'une splendeur fantastique et incompréhensible.\n PREDICTED: On ne remarqua pas qu ’ à quelque point de sa vaste étendue , et non sans flambeau , ni d ’ une blancheur , ni d ’ un flot , ne dans toute la vue .\n--------------------------------------------------------------------------------\n    SOURCE: ON the next day, and the days that followed, Étienne continued his work at the pit.\n    TARGET: Le lendemain, les jours suivants, Étienne reprit son travail a la fosse.\n PREDICTED: Le lendemain , le lendemain , Étienne , suivi , continuait son travail a la fosse .\n--------------------------------------------------------------------------------\n",
          "output_type": "stream"
        },
        {
          "name": "stderr",
          "text": "Processing Epoch 07: 100%|██████████| 1930/1930 [03:38<00:00,  8.84it/s, loss=2.405]\nstty: 'standard input': Inappropriate ioctl for device\n",
          "output_type": "stream"
        },
        {
          "name": "stdout",
          "text": "Average loss of epoch 7 is 2.4115976990813417\n--------------------------------------------------------------------------------\n    SOURCE: Architecture began like all writing.\n    TARGET: L’architecture commença comme toute écriture.\n PREDICTED: L ’ architecture se mit à écrire .\n--------------------------------------------------------------------------------\n    SOURCE: Is it natural that he should stand for five or ten minutes, as Dr. Mortimer, with more practical sense than I should have given him credit for, deduced from the cigar ash?\"\n    TARGET: Est-il normal qu’il soit resté là debout cinq ou dix minutes, comme l’a déduit de la cendre du cigare le docteur Mortimer, lequel a montré là plus de sens pratique que je ne l’aurais espéré ?\n PREDICTED: Est - ce naturel qu ’ il y aurait cinq ou dix minutes , comme le docteur Mortimer ; avec plus pratique que je l ’ ai de son pot à ?\n--------------------------------------------------------------------------------\n",
          "output_type": "stream"
        },
        {
          "name": "stderr",
          "text": "Processing Epoch 08: 100%|██████████| 1930/1930 [03:38<00:00,  8.83it/s, loss=1.985]\nstty: 'standard input': Inappropriate ioctl for device\n",
          "output_type": "stream"
        },
        {
          "name": "stdout",
          "text": "Average loss of epoch 8 is 2.19921938119157\n--------------------------------------------------------------------------------\n    SOURCE: 'The estates in Languedoc bring in 20,600 francs.\n    TARGET: « Les terres de Languedoc rendent 20.600 francs.\n PREDICTED: Les terres en , cents francs .\n--------------------------------------------------------------------------------\n    SOURCE: 'Your name?'\n    TARGET: – Votre nom ?\n PREDICTED: – Votre nom ?\n--------------------------------------------------------------------------------\n",
          "output_type": "stream"
        },
        {
          "name": "stderr",
          "text": "Processing Epoch 09: 100%|██████████| 1930/1930 [03:38<00:00,  8.83it/s, loss=2.010]\nstty: 'standard input': Inappropriate ioctl for device\n",
          "output_type": "stream"
        },
        {
          "name": "stdout",
          "text": "Average loss of epoch 9 is 2.030643483641234\n--------------------------------------------------------------------------------\n    SOURCE: \"Yes, the Bristol yellowman has been the winning colour of late.\n    TARGET: -- Oui, le jaune de Bristol a été la couleur gagnante depuis peu.\n PREDICTED: -- Oui , les sont en retard , et il en fut bien du .\n--------------------------------------------------------------------------------\n    SOURCE: Two powerful locomotives, carrying nine cars of invited guests, amongst whom was Thomas C. Durant, vice-president of the road, stopped at this point; cheers were given, the Sioux and Pawnees performed an imitation Indian battle, fireworks were let off, and the first number of the Railway Pioneer was printed by a press brought on the train.\n    TARGET: Là s'arrêtèrent les deux puissantes locomotives, remorquant les neuf wagons des invités, au nombre desquels figurait le vice-président, Mr. Thomas C. Durant ; là retentirent les acclamations ; là, les Sioux et les Pawnies donnèrent le spectacle d'une petite guerre indienne ; là, les feux d'artifice éclatèrent ; là, enfin, se publia, au moyen d'une imprimerie portative, le premier numéro du journal Railway Pioneer.\n PREDICTED: Deux , creusés à ses neuf personnes , entre lesquels c ’ était Mme Drebber , During le chef des sbires en était un , et un de fumée .\n--------------------------------------------------------------------------------\n",
          "output_type": "stream"
        },
        {
          "name": "stderr",
          "text": "Processing Epoch 10: 100%|██████████| 1930/1930 [03:38<00:00,  8.82it/s, loss=2.033]\nstty: 'standard input': Inappropriate ioctl for device\n",
          "output_type": "stream"
        },
        {
          "name": "stdout",
          "text": "Average loss of epoch 10 is 1.930815881830423\n--------------------------------------------------------------------------------\n    SOURCE: With a sweep of the ax, Captain Nemo chopped off this fearsome tentacle, which slid writhing down the steps.\n    TARGET: D'un coup de hache, le capitaine Nemo coupa ce formidable tentacule, qui glissa sur les échelons en se tordant.\n PREDICTED: Avec une Est de la hache , le capitaine Nemo , sur ce formidable degré de mer qui se les marches .\n--------------------------------------------------------------------------------\n    SOURCE: Julien read:\n    TARGET: Julien lut :\n PREDICTED: Julien lut :\n--------------------------------------------------------------------------------\n",
          "output_type": "stream"
        },
        {
          "name": "stderr",
          "text": "Processing Epoch 11: 100%|██████████| 1930/1930 [03:38<00:00,  8.85it/s, loss=2.002]\nstty: 'standard input': Inappropriate ioctl for device\n",
          "output_type": "stream"
        },
        {
          "name": "stdout",
          "text": "Average loss of epoch 11 is 1.8992116880540404\n--------------------------------------------------------------------------------\n    SOURCE: And as she did not dare to, he himself stepped forward, scissors in hand.\n    TARGET: Et, comme elle n’osait, il s’avança lui-même, les ciseaux à la main.\n PREDICTED: Et comme elle n ' osait , il s ' avança des lent , a la main .\n--------------------------------------------------------------------------------\n    SOURCE: This staggered us for a bit.\n    TARGET: Cette réponse nous déconcerta quelque peu.\n PREDICTED: Cela nous donna un peu de tête .\n--------------------------------------------------------------------------------\n",
          "output_type": "stream"
        },
        {
          "name": "stderr",
          "text": "Processing Epoch 12: 100%|██████████| 1930/1930 [03:37<00:00,  8.87it/s, loss=2.019]\nstty: 'standard input': Inappropriate ioctl for device\n",
          "output_type": "stream"
        },
        {
          "name": "stdout",
          "text": "Average loss of epoch 12 is 1.870905023844131\n--------------------------------------------------------------------------------\n    SOURCE: \"We shall meet again, shall we not, monsieur?\"\n    TARGET: «Nous nous retrouverons, n'est-ce pas, monsieur?\n PREDICTED: -- Nous ne serons pas au plus , monsieur ?\n--------------------------------------------------------------------------------\n    SOURCE: \"And then?\"\n    TARGET: – Et puis ?\n PREDICTED: -- Et puis ?\n--------------------------------------------------------------------------------\n",
          "output_type": "stream"
        },
        {
          "name": "stderr",
          "text": "Processing Epoch 13: 100%|██████████| 1930/1930 [03:38<00:00,  8.85it/s, loss=1.934]\nstty: 'standard input': Inappropriate ioctl for device\n",
          "output_type": "stream"
        },
        {
          "name": "stdout",
          "text": "Average loss of epoch 13 is 1.846449734015786\n--------------------------------------------------------------------------------\n    SOURCE: A city within a city.\n    TARGET: Une cité dans la cité.\n PREDICTED: Une ville dans une ville .\n--------------------------------------------------------------------------------\n    SOURCE: Julien gave utterance in his company to none but pious sentiments.\n    TARGET: Julien ne faisait paraître devant lui que des sentiments pieux.\n PREDICTED: Julien se de sa compagnie à plusieurs sentiments .\n--------------------------------------------------------------------------------\n",
          "output_type": "stream"
        },
        {
          "name": "stderr",
          "text": "Processing Epoch 14: 100%|██████████| 1930/1930 [03:38<00:00,  8.83it/s, loss=1.790]\nstty: 'standard input': Inappropriate ioctl for device\n",
          "output_type": "stream"
        },
        {
          "name": "stdout",
          "text": "Average loss of epoch 14 is 1.8245823527247176\n--------------------------------------------------------------------------------\n    SOURCE: Thehurrying steamships flew off to the right and left over the smooth bosomof the ocean, while sailing vessels, cast off by the pilot-tugs whichhad hauled them out, lay motionless, dressing themselves from themain-mast to the fore-tops in canvas, white or brown, and ruddy in thesetting sun.\n    TARGET: Les steamershâtifs s'enfuyaient à droite, à gauche, sur le ventre plat de l'Océan,tandis que les bâtiments à voile, abandonnés par les mouches qui lesavaient haies, demeuraient immobiles, tout en s'habillant, de la grandehune au petit perroquet, de toile blanche ou de toile brune qui semblaitrouge au soleil couchant.\n PREDICTED: La colère s ' contre le droit , et elle se laissa sur les , tandis que les bâtiments de l ' Océan , sa corne , se dans la toile de chambre ...\n--------------------------------------------------------------------------------\n    SOURCE: To fortune I am perfectly indifferent, and shall make no demand of that nature on your father, since I am well aware that it could not be complied with; and that one thousand pounds in the four per cents, which will not be yours till after your mother's decease, is all that you may ever be entitled to.\n    TARGET: La question de fortune me laisse indifférent. Je sais que votre pere ne peut rien vous donner et que mille livres placées a quatre pour cent sont tout ce que vous pouvez espérer recueillir apres la mort de votre mere.\n PREDICTED: Pour le bonheur , je ne suis pas absolument indifférent , et je ne demande pas de la justice , depuis que vous vous tous les quatre mois avec votre frère .\n--------------------------------------------------------------------------------\n",
          "output_type": "stream"
        },
        {
          "name": "stderr",
          "text": "Processing Epoch 15: 100%|██████████| 1930/1930 [03:37<00:00,  8.86it/s, loss=1.881]\nstty: 'standard input': Inappropriate ioctl for device\n",
          "output_type": "stream"
        },
        {
          "name": "stdout",
          "text": "Average loss of epoch 15 is 1.8053612569453186\n--------------------------------------------------------------------------------\n    SOURCE: But I had got home to my little tent, where I lay, with all my wealth about me, very secure.\n    TARGET: Mais j'étais déjà rentré chez moi, dans ma petite tente, et assis en sécurité au milieu de toute ma richesse.\n PREDICTED: Mais je m ' étais assis à ma petite tente , où j ' étais , avec toutes mes richesses .\n--------------------------------------------------------------------------------\n    SOURCE: Jane, a little water.\"\n    TARGET: Jane, un peu d'eau.»\n PREDICTED: Jane , un peu d ' eau !\n--------------------------------------------------------------------------------\n",
          "output_type": "stream"
        },
        {
          "name": "stderr",
          "text": "Processing Epoch 16:  33%|███▎      | 629/1930 [01:10<02:54,  7.46it/s, loss=1.725]IOPub message rate exceeded.\nThe notebook server will temporarily stop sending output\nto the client in order to avoid crashing it.\nTo change this limit, set the config variable\n`--NotebookApp.iopub_msg_rate_limit`.\n\nCurrent values:\nNotebookApp.iopub_msg_rate_limit=1000.0 (msgs/sec)\nNotebookApp.rate_limit_window=3.0 (secs)\n\nProcessing Epoch 16: 100%|██████████| 1930/1930 [03:36<00:00,  8.92it/s, loss=1.966]\nstty: 'standard input': Inappropriate ioctl for device\n",
          "output_type": "stream"
        },
        {
          "name": "stdout",
          "text": "Average loss of epoch 16 is 1.7872129118504303\n--------------------------------------------------------------------------------\n    SOURCE: 'Great God! They were only fine speeches, all the exquisite things you have been saying to me for the last ten minutes?'\n    TARGET: – Grand Dieu ! ce sont des phrases que tout ce que vous me dites de ravissant depuis deux minutes?\n PREDICTED: – Grand Dieu ! – Ce n ’ est que des phrases , toutes ces choses vous avez dit une derniere fois ?\n--------------------------------------------------------------------------------\n    SOURCE: You tell them one or two items of news, and give them your views and opinions on the Irish question; but this does not appear to interest them. All they remark on any subject is, \"Oh!\" \"Is it?\" \"Did he?\" \"Yes,\" and \"You don't say so!\" And, after ten minutes of such style of conversation, you edge up to the door, and slip out, and are surprised to find that the door immediately closes behind you, and shuts itself, without your having touched it.\n    TARGET: Vous leur apprenez quelques nouvelles, leur exposez votre opinion sur la question irlandaise, mais rien ne semble les intéresser. Leurs remarques se bornent a des « Oh !… Vraiment ?… Tiens… Pas possible !… » Au bout de dix minutes de ce genre de conversation, vous vous repliez vers la porte, et a peine l’avezvous franchie, qu’a votre grande surprise elle se referme derriere vous, sans que vous l’ayez touchée.\n PREDICTED: Vous dites qu ' un ou deux me donnaient de nouvelles , et il vous a donné l ' opinion publique de votre avis , et n ' est - ce pas un intérêt particulier .\n--------------------------------------------------------------------------------\n",
          "output_type": "stream"
        },
        {
          "name": "stderr",
          "text": "Processing Epoch 17:   4%|▎         | 69/1930 [00:07<03:46,  8.20it/s, loss=1.733]",
          "output_type": "stream"
        }
      ]
    },
    {
      "cell_type": "code",
      "source": [],
      "metadata": {
        "id": "A3ipVOO9exd4"
      },
      "execution_count": null,
      "outputs": []
    }
  ]
}