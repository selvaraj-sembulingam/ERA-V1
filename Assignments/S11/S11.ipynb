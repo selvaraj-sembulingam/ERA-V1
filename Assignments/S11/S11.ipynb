{
  "nbformat": 4,
  "nbformat_minor": 0,
  "metadata": {
    "colab": {
      "provenance": [],
      "gpuType": "T4"
    },
    "kernelspec": {
      "name": "python3",
      "display_name": "Python 3"
    },
    "language_info": {
      "name": "python"
    },
    "accelerator": "GPU"
  },
  "cells": [
    {
      "cell_type": "code",
      "source": [
        "!git clone https://github.com/selvaraj-sembulingam/ERA-V1.git\n",
        "%cd ERA-V1/Assignments/S11"
      ],
      "metadata": {
        "colab": {
          "base_uri": "https://localhost:8080/"
        },
        "id": "7iGDCsDurLoH",
        "outputId": "419ec2a6-22c9-4abb-fa42-356c309370e8"
      },
      "execution_count": 1,
      "outputs": [
        {
          "output_type": "stream",
          "name": "stdout",
          "text": [
            "Cloning into 'ERA-V1'...\n",
            "remote: Enumerating objects: 1092, done.\u001b[K\n",
            "remote: Counting objects: 100% (496/496), done.\u001b[K\n",
            "remote: Compressing objects: 100% (262/262), done.\u001b[K\n",
            "remote: Total 1092 (delta 247), reused 462 (delta 231), pack-reused 596\u001b[K\n",
            "Receiving objects: 100% (1092/1092), 154.22 MiB | 34.50 MiB/s, done.\n",
            "Resolving deltas: 100% (439/439), done.\n",
            "/content/ERA-V1/Assignments/S11\n"
          ]
        }
      ]
    },
    {
      "cell_type": "markdown",
      "source": [
        "## Install Dependencies"
      ],
      "metadata": {
        "id": "qNTlmirZNRzW"
      }
    },
    {
      "cell_type": "code",
      "source": [
        "!pip install -q torchsummary\n",
        "!pip install -q albumentations\n",
        "!pip install -q torch_lr_finder\n",
        "!pip install -q grad-cam==1.4.6"
      ],
      "metadata": {
        "id": "QdFYJGg76eMK",
        "colab": {
          "base_uri": "https://localhost:8080/"
        },
        "outputId": "62c03bfa-8e36-42a9-c46f-80c935f6dce9"
      },
      "execution_count": 2,
      "outputs": [
        {
          "output_type": "stream",
          "name": "stdout",
          "text": [
            "\u001b[2K     \u001b[90m━━━━━━━━━━━━━━━━━━━━━━━━━━━━━━━━━━━━━━━━\u001b[0m \u001b[32m7.8/7.8 MB\u001b[0m \u001b[31m18.2 MB/s\u001b[0m eta \u001b[36m0:00:00\u001b[0m\n",
            "\u001b[?25h  Installing build dependencies ... \u001b[?25l\u001b[?25hdone\n",
            "  Getting requirements to build wheel ... \u001b[?25l\u001b[?25hdone\n",
            "  Preparing metadata (pyproject.toml) ... \u001b[?25l\u001b[?25hdone\n",
            "  Building wheel for grad-cam (pyproject.toml) ... \u001b[?25l\u001b[?25hdone\n"
          ]
        }
      ]
    },
    {
      "cell_type": "markdown",
      "source": [
        "## Model Summary"
      ],
      "metadata": {
        "id": "EJk9w_DqNZ0G"
      }
    },
    {
      "cell_type": "code",
      "source": [
        "from src.utils import model_summary\n",
        "model_summary()"
      ],
      "metadata": {
        "colab": {
          "base_uri": "https://localhost:8080/"
        },
        "id": "D-9RTeJD5s0i",
        "outputId": "2fabb1dc-2187-4566-bda9-007917d234fe"
      },
      "execution_count": 3,
      "outputs": [
        {
          "output_type": "stream",
          "name": "stdout",
          "text": [
            "----------------------------------------------------------------\n",
            "        Layer (type)               Output Shape         Param #\n",
            "================================================================\n",
            "            Conv2d-1           [-1, 64, 32, 32]           1,728\n",
            "       BatchNorm2d-2           [-1, 64, 32, 32]             128\n",
            "            Conv2d-3           [-1, 64, 32, 32]          36,864\n",
            "       BatchNorm2d-4           [-1, 64, 32, 32]             128\n",
            "            Conv2d-5           [-1, 64, 32, 32]          36,864\n",
            "       BatchNorm2d-6           [-1, 64, 32, 32]             128\n",
            "        BasicBlock-7           [-1, 64, 32, 32]               0\n",
            "            Conv2d-8           [-1, 64, 32, 32]          36,864\n",
            "       BatchNorm2d-9           [-1, 64, 32, 32]             128\n",
            "           Conv2d-10           [-1, 64, 32, 32]          36,864\n",
            "      BatchNorm2d-11           [-1, 64, 32, 32]             128\n",
            "       BasicBlock-12           [-1, 64, 32, 32]               0\n",
            "           Conv2d-13          [-1, 128, 16, 16]          73,728\n",
            "      BatchNorm2d-14          [-1, 128, 16, 16]             256\n",
            "           Conv2d-15          [-1, 128, 16, 16]         147,456\n",
            "      BatchNorm2d-16          [-1, 128, 16, 16]             256\n",
            "           Conv2d-17          [-1, 128, 16, 16]           8,192\n",
            "      BatchNorm2d-18          [-1, 128, 16, 16]             256\n",
            "       BasicBlock-19          [-1, 128, 16, 16]               0\n",
            "           Conv2d-20          [-1, 128, 16, 16]         147,456\n",
            "      BatchNorm2d-21          [-1, 128, 16, 16]             256\n",
            "           Conv2d-22          [-1, 128, 16, 16]         147,456\n",
            "      BatchNorm2d-23          [-1, 128, 16, 16]             256\n",
            "       BasicBlock-24          [-1, 128, 16, 16]               0\n",
            "           Conv2d-25            [-1, 256, 8, 8]         294,912\n",
            "      BatchNorm2d-26            [-1, 256, 8, 8]             512\n",
            "           Conv2d-27            [-1, 256, 8, 8]         589,824\n",
            "      BatchNorm2d-28            [-1, 256, 8, 8]             512\n",
            "           Conv2d-29            [-1, 256, 8, 8]          32,768\n",
            "      BatchNorm2d-30            [-1, 256, 8, 8]             512\n",
            "       BasicBlock-31            [-1, 256, 8, 8]               0\n",
            "           Conv2d-32            [-1, 256, 8, 8]         589,824\n",
            "      BatchNorm2d-33            [-1, 256, 8, 8]             512\n",
            "           Conv2d-34            [-1, 256, 8, 8]         589,824\n",
            "      BatchNorm2d-35            [-1, 256, 8, 8]             512\n",
            "       BasicBlock-36            [-1, 256, 8, 8]               0\n",
            "           Conv2d-37            [-1, 512, 4, 4]       1,179,648\n",
            "      BatchNorm2d-38            [-1, 512, 4, 4]           1,024\n",
            "           Conv2d-39            [-1, 512, 4, 4]       2,359,296\n",
            "      BatchNorm2d-40            [-1, 512, 4, 4]           1,024\n",
            "           Conv2d-41            [-1, 512, 4, 4]         131,072\n",
            "      BatchNorm2d-42            [-1, 512, 4, 4]           1,024\n",
            "       BasicBlock-43            [-1, 512, 4, 4]               0\n",
            "           Conv2d-44            [-1, 512, 4, 4]       2,359,296\n",
            "      BatchNorm2d-45            [-1, 512, 4, 4]           1,024\n",
            "           Conv2d-46            [-1, 512, 4, 4]       2,359,296\n",
            "      BatchNorm2d-47            [-1, 512, 4, 4]           1,024\n",
            "       BasicBlock-48            [-1, 512, 4, 4]               0\n",
            "           Linear-49                   [-1, 10]           5,130\n",
            "================================================================\n",
            "Total params: 11,173,962\n",
            "Trainable params: 11,173,962\n",
            "Non-trainable params: 0\n",
            "----------------------------------------------------------------\n",
            "Input size (MB): 0.01\n",
            "Forward/backward pass size (MB): 11.25\n",
            "Params size (MB): 42.63\n",
            "Estimated Total Size (MB): 53.89\n",
            "----------------------------------------------------------------\n"
          ]
        }
      ]
    },
    {
      "cell_type": "markdown",
      "source": [
        "## Training"
      ],
      "metadata": {
        "id": "8W84Y36kNepq"
      }
    },
    {
      "cell_type": "code",
      "source": [
        "!python train.py"
      ],
      "metadata": {
        "colab": {
          "base_uri": "https://localhost:8080/"
        },
        "id": "tjAe7zfYtfJB",
        "outputId": "9c7b4852-009a-4a23-c748-441ece5eb19d"
      },
      "execution_count": 4,
      "outputs": [
        {
          "output_type": "stream",
          "name": "stdout",
          "text": [
            "Downloading https://www.cs.toronto.edu/~kriz/cifar-10-python.tar.gz to ../data/cifar-10-python.tar.gz\n",
            "100% 170498071/170498071 [00:03<00:00, 44752808.21it/s]\n",
            "Extracting ../data/cifar-10-python.tar.gz to ../data\n",
            "Files already downloaded and verified\n",
            "Epoch 0, Learning Rate: 0.000479\n",
            "Train: Loss=1.6072 Batch_id=97 Accuracy=37.23: 100% 98/98 [00:40<00:00,  2.45it/s]\n",
            "Test set: Loss: 0.0044, Accuracy: 3530/10000 (35.30%)\n",
            "\n",
            "Epoch 1, Learning Rate: 0.00998259509202454\n",
            "Train: Loss=1.2893 Batch_id=97 Accuracy=47.34: 100% 98/98 [00:40<00:00,  2.42it/s]\n",
            "Test set: Loss: 0.0031, Accuracy: 4918/10000 (49.18%)\n",
            "\n",
            "Epoch 2, Learning Rate: 0.01948619018404908\n",
            "Train: Loss=0.9999 Batch_id=97 Accuracy=56.62: 100% 98/98 [00:41<00:00,  2.39it/s]\n",
            "Test set: Loss: 0.0026, Accuracy: 5842/10000 (58.42%)\n",
            "\n",
            "Epoch 3, Learning Rate: 0.028989785276073616\n",
            "Train: Loss=0.8624 Batch_id=97 Accuracy=63.20: 100% 98/98 [00:40<00:00,  2.40it/s]\n",
            "Test set: Loss: 0.0024, Accuracy: 6363/10000 (63.63%)\n",
            "\n",
            "Epoch 4, Learning Rate: 0.03849338036809816\n",
            "Train: Loss=0.8703 Batch_id=97 Accuracy=67.43: 100% 98/98 [00:40<00:00,  2.40it/s]\n",
            "Test set: Loss: 0.0035, Accuracy: 5548/10000 (55.48%)\n",
            "\n",
            "Epoch 5, Learning Rate: 0.0478674182244898\n",
            "Train: Loss=0.8013 Batch_id=97 Accuracy=71.29: 100% 98/98 [00:40<00:00,  2.40it/s]\n",
            "Test set: Loss: 0.0028, Accuracy: 6082/10000 (60.82%)\n",
            "\n",
            "Epoch 6, Learning Rate: 0.044674404224489796\n",
            "Train: Loss=0.5746 Batch_id=97 Accuracy=74.12: 100% 98/98 [00:40<00:00,  2.40it/s]\n",
            "Test set: Loss: 0.0012, Accuracy: 7905/10000 (79.05%)\n",
            "\n",
            "Epoch 7, Learning Rate: 0.041481390224489795\n",
            "Train: Loss=0.5847 Batch_id=97 Accuracy=76.95: 100% 98/98 [00:40<00:00,  2.40it/s]\n",
            "Test set: Loss: 0.0017, Accuracy: 7222/10000 (72.22%)\n",
            "\n",
            "Epoch 8, Learning Rate: 0.038288376224489794\n",
            "Train: Loss=0.6493 Batch_id=97 Accuracy=78.84: 100% 98/98 [00:41<00:00,  2.39it/s]\n",
            "Test set: Loss: 0.0011, Accuracy: 8158/10000 (81.58%)\n",
            "\n",
            "Epoch 9, Learning Rate: 0.03509536222448979\n",
            "Train: Loss=0.4759 Batch_id=97 Accuracy=80.30: 100% 98/98 [00:40<00:00,  2.41it/s]\n",
            "Test set: Loss: 0.0011, Accuracy: 8238/10000 (82.38%)\n",
            "\n",
            "Epoch 10, Learning Rate: 0.03190234822448979\n",
            "Train: Loss=0.4671 Batch_id=97 Accuracy=82.12: 100% 98/98 [00:40<00:00,  2.40it/s]\n",
            "Test set: Loss: 0.0011, Accuracy: 8223/10000 (82.23%)\n",
            "\n",
            "Epoch 11, Learning Rate: 0.028709334224489794\n",
            "Train: Loss=0.4827 Batch_id=97 Accuracy=83.65: 100% 98/98 [00:41<00:00,  2.38it/s]\n",
            "Test set: Loss: 0.0009, Accuracy: 8538/10000 (85.38%)\n",
            "\n",
            "Epoch 12, Learning Rate: 0.025516320224489793\n",
            "Train: Loss=0.4839 Batch_id=97 Accuracy=84.68: 100% 98/98 [00:40<00:00,  2.40it/s]\n",
            "Test set: Loss: 0.0012, Accuracy: 8212/10000 (82.12%)\n",
            "\n",
            "Epoch 13, Learning Rate: 0.022323306224489792\n",
            "Train: Loss=0.3267 Batch_id=97 Accuracy=86.08: 100% 98/98 [00:40<00:00,  2.40it/s]\n",
            "Test set: Loss: 0.0009, Accuracy: 8606/10000 (86.06%)\n",
            "\n",
            "Epoch 14, Learning Rate: 0.01913029222448979\n",
            "Train: Loss=0.2790 Batch_id=97 Accuracy=87.45: 100% 98/98 [00:41<00:00,  2.38it/s]\n",
            "Test set: Loss: 0.0008, Accuracy: 8749/10000 (87.49%)\n",
            "\n",
            "Epoch 15, Learning Rate: 0.015937278224489794\n",
            "Train: Loss=0.3617 Batch_id=97 Accuracy=88.54: 100% 98/98 [00:40<00:00,  2.40it/s]\n",
            "Test set: Loss: 0.0008, Accuracy: 8681/10000 (86.81%)\n",
            "\n",
            "Epoch 16, Learning Rate: 0.012744264224489793\n",
            "Train: Loss=0.2618 Batch_id=97 Accuracy=89.64: 100% 98/98 [00:40<00:00,  2.40it/s]\n",
            "Test set: Loss: 0.0007, Accuracy: 8911/10000 (89.11%)\n",
            "\n",
            "Epoch 17, Learning Rate: 0.009551250224489792\n",
            "Train: Loss=0.2286 Batch_id=97 Accuracy=91.30: 100% 98/98 [00:41<00:00,  2.37it/s]\n",
            "Test set: Loss: 0.0007, Accuracy: 8956/10000 (89.56%)\n",
            "\n",
            "Epoch 18, Learning Rate: 0.006358236224489798\n",
            "Train: Loss=0.2326 Batch_id=97 Accuracy=92.50: 100% 98/98 [00:40<00:00,  2.40it/s]\n",
            "Test set: Loss: 0.0007, Accuracy: 8964/10000 (89.64%)\n",
            "\n",
            "Epoch 19, Learning Rate: 0.003165222224489797\n",
            "Train: Loss=0.1605 Batch_id=97 Accuracy=93.72: 100% 98/98 [00:40<00:00,  2.41it/s]\n",
            "Test set: Loss: 0.0006, Accuracy: 9041/10000 (90.41%)\n",
            "\n",
            "[INFO] Saving model to: results/ResNet18.pth\n"
          ]
        }
      ]
    },
    {
      "cell_type": "code",
      "source": [],
      "metadata": {
        "id": "gJyhhkNkPEzq"
      },
      "execution_count": null,
      "outputs": []
    }
  ]
}