{
  "nbformat": 4,
  "nbformat_minor": 0,
  "metadata": {
    "colab": {
      "provenance": [],
      "gpuType": "T4"
    },
    "kernelspec": {
      "name": "python3",
      "display_name": "Python 3"
    },
    "language_info": {
      "name": "python"
    },
    "accelerator": "GPU"
  },
  "cells": [
    {
      "cell_type": "code",
      "source": [
        "!git clone https://github.com/selvaraj-sembulingam/ERA-V1.git\n",
        "%cd ERA-V1/Assignments/S11"
      ],
      "metadata": {
        "colab": {
          "base_uri": "https://localhost:8080/"
        },
        "id": "7iGDCsDurLoH",
        "outputId": "d33dde98-297b-45cd-9b49-5b0c61c66a4f"
      },
      "execution_count": 1,
      "outputs": [
        {
          "output_type": "stream",
          "name": "stdout",
          "text": [
            "Cloning into 'ERA-V1'...\n",
            "remote: Enumerating objects: 1076, done.\u001b[K\n",
            "remote: Counting objects: 100% (480/480), done.\u001b[K\n",
            "remote: Compressing objects: 100% (248/248), done.\u001b[K\n",
            "remote: Total 1076 (delta 242), reused 452 (delta 229), pack-reused 596\u001b[K\n",
            "Receiving objects: 100% (1076/1076), 114.20 MiB | 19.58 MiB/s, done.\n",
            "Resolving deltas: 100% (434/434), done.\n",
            "/content/ERA-V1/Assignments/S11\n"
          ]
        }
      ]
    },
    {
      "cell_type": "markdown",
      "source": [
        "## Install Dependencies"
      ],
      "metadata": {
        "id": "qNTlmirZNRzW"
      }
    },
    {
      "cell_type": "code",
      "source": [
        "!pip install -q torchsummary\n",
        "!pip install -q albumentations\n",
        "!pip install -q torch_lr_finder\n",
        "!pip install -q grad-cam==1.4.6"
      ],
      "metadata": {
        "id": "QdFYJGg76eMK",
        "colab": {
          "base_uri": "https://localhost:8080/"
        },
        "outputId": "89da18d3-f007-432a-c921-b68e877cd5cd"
      },
      "execution_count": 2,
      "outputs": [
        {
          "output_type": "stream",
          "name": "stdout",
          "text": [
            "\u001b[2K     \u001b[90m━━━━━━━━━━━━━━━━━━━━━━━━━━━━━━━━━━━━━━━━\u001b[0m \u001b[32m7.8/7.8 MB\u001b[0m \u001b[31m28.6 MB/s\u001b[0m eta \u001b[36m0:00:00\u001b[0m\n",
            "\u001b[?25h  Installing build dependencies ... \u001b[?25l\u001b[?25hdone\n",
            "  Getting requirements to build wheel ... \u001b[?25l\u001b[?25hdone\n",
            "  Preparing metadata (pyproject.toml) ... \u001b[?25l\u001b[?25hdone\n",
            "  Building wheel for grad-cam (pyproject.toml) ... \u001b[?25l\u001b[?25hdone\n"
          ]
        }
      ]
    },
    {
      "cell_type": "markdown",
      "source": [
        "## Model Summary"
      ],
      "metadata": {
        "id": "EJk9w_DqNZ0G"
      }
    },
    {
      "cell_type": "code",
      "source": [
        "from src.utils import model_summary\n",
        "model_summary()"
      ],
      "metadata": {
        "colab": {
          "base_uri": "https://localhost:8080/"
        },
        "id": "D-9RTeJD5s0i",
        "outputId": "545ec700-6254-4dcb-ef3d-90953998d028"
      },
      "execution_count": 3,
      "outputs": [
        {
          "output_type": "stream",
          "name": "stdout",
          "text": [
            "----------------------------------------------------------------\n",
            "        Layer (type)               Output Shape         Param #\n",
            "================================================================\n",
            "            Conv2d-1           [-1, 64, 32, 32]           1,728\n",
            "       BatchNorm2d-2           [-1, 64, 32, 32]             128\n",
            "            Conv2d-3           [-1, 64, 32, 32]          36,864\n",
            "       BatchNorm2d-4           [-1, 64, 32, 32]             128\n",
            "            Conv2d-5           [-1, 64, 32, 32]          36,864\n",
            "       BatchNorm2d-6           [-1, 64, 32, 32]             128\n",
            "        BasicBlock-7           [-1, 64, 32, 32]               0\n",
            "            Conv2d-8           [-1, 64, 32, 32]          36,864\n",
            "       BatchNorm2d-9           [-1, 64, 32, 32]             128\n",
            "           Conv2d-10           [-1, 64, 32, 32]          36,864\n",
            "      BatchNorm2d-11           [-1, 64, 32, 32]             128\n",
            "       BasicBlock-12           [-1, 64, 32, 32]               0\n",
            "           Conv2d-13          [-1, 128, 16, 16]          73,728\n",
            "      BatchNorm2d-14          [-1, 128, 16, 16]             256\n",
            "           Conv2d-15          [-1, 128, 16, 16]         147,456\n",
            "      BatchNorm2d-16          [-1, 128, 16, 16]             256\n",
            "           Conv2d-17          [-1, 128, 16, 16]           8,192\n",
            "      BatchNorm2d-18          [-1, 128, 16, 16]             256\n",
            "       BasicBlock-19          [-1, 128, 16, 16]               0\n",
            "           Conv2d-20          [-1, 128, 16, 16]         147,456\n",
            "      BatchNorm2d-21          [-1, 128, 16, 16]             256\n",
            "           Conv2d-22          [-1, 128, 16, 16]         147,456\n",
            "      BatchNorm2d-23          [-1, 128, 16, 16]             256\n",
            "       BasicBlock-24          [-1, 128, 16, 16]               0\n",
            "           Conv2d-25            [-1, 256, 8, 8]         294,912\n",
            "      BatchNorm2d-26            [-1, 256, 8, 8]             512\n",
            "           Conv2d-27            [-1, 256, 8, 8]         589,824\n",
            "      BatchNorm2d-28            [-1, 256, 8, 8]             512\n",
            "           Conv2d-29            [-1, 256, 8, 8]          32,768\n",
            "      BatchNorm2d-30            [-1, 256, 8, 8]             512\n",
            "       BasicBlock-31            [-1, 256, 8, 8]               0\n",
            "           Conv2d-32            [-1, 256, 8, 8]         589,824\n",
            "      BatchNorm2d-33            [-1, 256, 8, 8]             512\n",
            "           Conv2d-34            [-1, 256, 8, 8]         589,824\n",
            "      BatchNorm2d-35            [-1, 256, 8, 8]             512\n",
            "       BasicBlock-36            [-1, 256, 8, 8]               0\n",
            "           Conv2d-37            [-1, 512, 4, 4]       1,179,648\n",
            "      BatchNorm2d-38            [-1, 512, 4, 4]           1,024\n",
            "           Conv2d-39            [-1, 512, 4, 4]       2,359,296\n",
            "      BatchNorm2d-40            [-1, 512, 4, 4]           1,024\n",
            "           Conv2d-41            [-1, 512, 4, 4]         131,072\n",
            "      BatchNorm2d-42            [-1, 512, 4, 4]           1,024\n",
            "       BasicBlock-43            [-1, 512, 4, 4]               0\n",
            "           Conv2d-44            [-1, 512, 4, 4]       2,359,296\n",
            "      BatchNorm2d-45            [-1, 512, 4, 4]           1,024\n",
            "           Conv2d-46            [-1, 512, 4, 4]       2,359,296\n",
            "      BatchNorm2d-47            [-1, 512, 4, 4]           1,024\n",
            "       BasicBlock-48            [-1, 512, 4, 4]               0\n",
            "           Linear-49                   [-1, 10]           5,130\n",
            "================================================================\n",
            "Total params: 11,173,962\n",
            "Trainable params: 11,173,962\n",
            "Non-trainable params: 0\n",
            "----------------------------------------------------------------\n",
            "Input size (MB): 0.01\n",
            "Forward/backward pass size (MB): 11.25\n",
            "Params size (MB): 42.63\n",
            "Estimated Total Size (MB): 53.89\n",
            "----------------------------------------------------------------\n"
          ]
        }
      ]
    },
    {
      "cell_type": "markdown",
      "source": [
        "## Training"
      ],
      "metadata": {
        "id": "8W84Y36kNepq"
      }
    },
    {
      "cell_type": "code",
      "source": [
        "!python train.py"
      ],
      "metadata": {
        "colab": {
          "base_uri": "https://localhost:8080/"
        },
        "id": "tjAe7zfYtfJB",
        "outputId": "f49a5f6b-3c14-420a-aec9-7b676ee1ffdc"
      },
      "execution_count": 4,
      "outputs": [
        {
          "output_type": "stream",
          "name": "stdout",
          "text": [
            "Downloading https://www.cs.toronto.edu/~kriz/cifar-10-python.tar.gz to ../data/cifar-10-python.tar.gz\n",
            "100% 170498071/170498071 [00:05<00:00, 28504729.02it/s]\n",
            "Extracting ../data/cifar-10-python.tar.gz to ../data\n",
            "Files already downloaded and verified\n",
            "Epoch 0, Learning Rate: 0.000479\n",
            "Train: Loss=1.6007 Batch_id=97 Accuracy=37.01: 100% 98/98 [00:40<00:00,  2.41it/s]\n",
            "Test set: Loss: 0.0040, Accuracy: 3833/10000 (38.33%)\n",
            "\n",
            "Epoch 1, Learning Rate: 0.00998259509202454\n",
            "Train: Loss=1.2701 Batch_id=97 Accuracy=48.28: 100% 98/98 [00:40<00:00,  2.40it/s]\n",
            "Test set: Loss: 0.0049, Accuracy: 3825/10000 (38.25%)\n",
            "\n",
            "Epoch 2, Learning Rate: 0.01948619018404908\n",
            "Train: Loss=0.9819 Batch_id=97 Accuracy=57.32: 100% 98/98 [00:41<00:00,  2.38it/s]\n",
            "Test set: Loss: 0.0029, Accuracy: 5431/10000 (54.31%)\n",
            "\n",
            "Epoch 3, Learning Rate: 0.028989785276073616\n",
            "Train: Loss=0.8972 Batch_id=97 Accuracy=64.05: 100% 98/98 [00:41<00:00,  2.34it/s]\n",
            "Test set: Loss: 0.0028, Accuracy: 5879/10000 (58.79%)\n",
            "\n",
            "Epoch 4, Learning Rate: 0.03849338036809816\n",
            "Train: Loss=0.8619 Batch_id=97 Accuracy=67.62: 100% 98/98 [00:41<00:00,  2.34it/s]\n",
            "Test set: Loss: 0.0027, Accuracy: 5998/10000 (59.98%)\n",
            "\n",
            "Epoch 5, Learning Rate: 0.0478674182244898\n",
            "Train: Loss=0.7715 Batch_id=97 Accuracy=71.38: 100% 98/98 [00:42<00:00,  2.31it/s]\n",
            "Test set: Loss: 0.0018, Accuracy: 7165/10000 (71.65%)\n",
            "\n",
            "Epoch 6, Learning Rate: 0.044674404224489796\n",
            "Train: Loss=0.5805 Batch_id=97 Accuracy=74.80: 100% 98/98 [00:42<00:00,  2.31it/s]\n",
            "Test set: Loss: 0.0019, Accuracy: 7149/10000 (71.49%)\n",
            "\n",
            "Epoch 7, Learning Rate: 0.041481390224489795\n",
            "Train: Loss=0.6316 Batch_id=97 Accuracy=76.98: 100% 98/98 [00:43<00:00,  2.27it/s]\n",
            "Test set: Loss: 0.0019, Accuracy: 6939/10000 (69.39%)\n",
            "\n",
            "Epoch 8, Learning Rate: 0.038288376224489794\n",
            "Train: Loss=0.6286 Batch_id=97 Accuracy=79.12: 100% 98/98 [00:43<00:00,  2.28it/s]\n",
            "Test set: Loss: 0.0010, Accuracy: 8207/10000 (82.07%)\n",
            "\n",
            "Epoch 9, Learning Rate: 0.03509536222448979\n",
            "Train: Loss=0.4821 Batch_id=97 Accuracy=80.57: 100% 98/98 [00:43<00:00,  2.27it/s]\n",
            "Test set: Loss: 0.0011, Accuracy: 8146/10000 (81.46%)\n",
            "\n",
            "Epoch 10, Learning Rate: 0.03190234822448979\n",
            "Train: Loss=0.4555 Batch_id=97 Accuracy=82.12: 100% 98/98 [00:43<00:00,  2.28it/s]\n",
            "Test set: Loss: 0.0009, Accuracy: 8471/10000 (84.71%)\n",
            "\n",
            "Epoch 11, Learning Rate: 0.028709334224489794\n",
            "Train: Loss=0.5006 Batch_id=97 Accuracy=83.68: 100% 98/98 [00:42<00:00,  2.30it/s]\n",
            "Test set: Loss: 0.0009, Accuracy: 8503/10000 (85.03%)\n",
            "\n",
            "Epoch 12, Learning Rate: 0.025516320224489793\n",
            "Train: Loss=0.5013 Batch_id=97 Accuracy=84.86: 100% 98/98 [00:43<00:00,  2.26it/s]\n",
            "Test set: Loss: 0.0012, Accuracy: 8240/10000 (82.40%)\n",
            "\n",
            "Epoch 13, Learning Rate: 0.022323306224489792\n",
            "Train: Loss=0.3640 Batch_id=97 Accuracy=86.40: 100% 98/98 [00:42<00:00,  2.28it/s]\n",
            "Test set: Loss: 0.0009, Accuracy: 8565/10000 (85.65%)\n",
            "\n",
            "Epoch 14, Learning Rate: 0.01913029222448979\n",
            "Train: Loss=0.3006 Batch_id=97 Accuracy=87.60: 100% 98/98 [00:42<00:00,  2.28it/s]\n",
            "Test set: Loss: 0.0008, Accuracy: 8770/10000 (87.70%)\n",
            "\n",
            "Epoch 15, Learning Rate: 0.015937278224489794\n",
            "Train: Loss=0.3450 Batch_id=97 Accuracy=88.84: 100% 98/98 [00:43<00:00,  2.28it/s]\n",
            "Test set: Loss: 0.0007, Accuracy: 8906/10000 (89.06%)\n",
            "\n",
            "Epoch 16, Learning Rate: 0.012744264224489793\n",
            "Train: Loss=0.2426 Batch_id=97 Accuracy=89.79: 100% 98/98 [00:42<00:00,  2.28it/s]\n",
            "Test set: Loss: 0.0006, Accuracy: 8946/10000 (89.46%)\n",
            "\n",
            "Epoch 17, Learning Rate: 0.009551250224489792\n",
            "Train: Loss=0.2329 Batch_id=97 Accuracy=91.43: 100% 98/98 [00:43<00:00,  2.25it/s]\n",
            "Test set: Loss: 0.0006, Accuracy: 8997/10000 (89.97%)\n",
            "\n",
            "Epoch 18, Learning Rate: 0.006358236224489798\n",
            "Train: Loss=0.2099 Batch_id=97 Accuracy=92.84: 100% 98/98 [00:42<00:00,  2.30it/s]\n",
            "Test set: Loss: 0.0006, Accuracy: 9074/10000 (90.74%)\n",
            "\n",
            "Epoch 19, Learning Rate: 0.003165222224489797\n",
            "Train: Loss=0.1925 Batch_id=97 Accuracy=93.88: 100% 98/98 [00:42<00:00,  2.29it/s]\n",
            "Test set: Loss: 0.0006, Accuracy: 9107/10000 (91.07%)\n",
            "\n",
            "[INFO] Saving model to: results/ResNet18.pth\n"
          ]
        }
      ]
    },
    {
      "cell_type": "code",
      "source": [],
      "metadata": {
        "id": "AIAI1zUmk1Gk"
      },
      "execution_count": null,
      "outputs": []
    }
  ]
}