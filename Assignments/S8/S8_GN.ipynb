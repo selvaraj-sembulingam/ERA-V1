{
  "nbformat": 4,
  "nbformat_minor": 0,
  "metadata": {
    "colab": {
      "provenance": [],
      "gpuType": "T4"
    },
    "kernelspec": {
      "name": "python3",
      "display_name": "Python 3"
    },
    "accelerator": "GPU"
  },
  "cells": [
    {
      "cell_type": "code",
      "source": [
        "from google.colab import drive\n",
        "drive.mount('/content/drive')\n",
        "%cd /content/drive/MyDrive/GitHub/ERA-V1/Assignments/S8"
      ],
      "metadata": {
        "colab": {
          "base_uri": "https://localhost:8080/"
        },
        "id": "myjl78X1sF8d",
        "outputId": "8fe321f2-8b28-4ae5-9045-5b31420e5896"
      },
      "execution_count": 1,
      "outputs": [
        {
          "output_type": "stream",
          "name": "stdout",
          "text": [
            "Drive already mounted at /content/drive; to attempt to forcibly remount, call drive.mount(\"/content/drive\", force_remount=True).\n",
            "/content/drive/MyDrive/GitHub/ERA-V1/Assignments/S8\n"
          ]
        }
      ]
    },
    {
      "cell_type": "markdown",
      "metadata": {
        "id": "aO-7t1Y7-hV4"
      },
      "source": [
        "# Import Libraries"
      ]
    },
    {
      "cell_type": "code",
      "metadata": {
        "id": "8kH16rnZ7wt_",
        "colab": {
          "base_uri": "https://localhost:8080/"
        },
        "outputId": "228de225-77a2-4f86-e221-3481be802b58"
      },
      "source": [
        "!pip install torchsummary\n",
        "from __future__ import print_function\n",
        "import torch\n",
        "import torch.nn as nn\n",
        "import torch.nn.functional as F\n",
        "import torch.optim as optim\n",
        "from torchvision import datasets, transforms"
      ],
      "execution_count": 2,
      "outputs": [
        {
          "output_type": "stream",
          "name": "stdout",
          "text": [
            "Looking in indexes: https://pypi.org/simple, https://us-python.pkg.dev/colab-wheels/public/simple/\n",
            "Requirement already satisfied: torchsummary in /usr/local/lib/python3.10/dist-packages (1.5.1)\n"
          ]
        }
      ]
    },
    {
      "cell_type": "markdown",
      "source": [
        "## Data Statistics"
      ],
      "metadata": {
        "id": "dgh-PsbCYVwT"
      }
    },
    {
      "cell_type": "code",
      "source": [
        "%%writefile get_stat.py\n",
        "import torch\n",
        "import numpy\n",
        "import torchvision.datasets as datasets\n",
        "from torchvision import transforms\n",
        "\n",
        "def get_stat():\n",
        "\n",
        "  cifar_trainset = datasets.CIFAR10(root='./data', train=True, download=True, transform=transforms.ToTensor())\n",
        "\n",
        "  imgs = [item[0] for item in cifar_trainset] # item[0] and item[1] are image and its label\n",
        "  imgs = torch.stack(imgs, dim=0).numpy()\n",
        "\n",
        "  # calculate mean over each channel (r,g,b)\n",
        "  mean_r = imgs[:,0,:,:].mean()\n",
        "  mean_g = imgs[:,1,:,:].mean()\n",
        "  mean_b = imgs[:,2,:,:].mean()\n",
        "  print(mean_r,mean_g,mean_b)\n",
        "\n",
        "  # calculate std over each channel (r,g,b)\n",
        "  std_r = imgs[:,0,:,:].std()\n",
        "  std_g = imgs[:,1,:,:].std()\n",
        "  std_b = imgs[:,2,:,:].std()\n",
        "  print(std_r,std_g,std_b)"
      ],
      "metadata": {
        "colab": {
          "base_uri": "https://localhost:8080/"
        },
        "id": "5_vPlDurYbXE",
        "outputId": "46f024f3-61af-4c2e-bc7a-d73d6ca1cdc0"
      },
      "execution_count": 3,
      "outputs": [
        {
          "output_type": "stream",
          "name": "stdout",
          "text": [
            "Overwriting get_stat.py\n"
          ]
        }
      ]
    },
    {
      "cell_type": "code",
      "source": [
        "from get_stat import get_stat\n",
        "get_stat()"
      ],
      "metadata": {
        "colab": {
          "base_uri": "https://localhost:8080/"
        },
        "id": "6k781pwFZBg8",
        "outputId": "081fdfa7-ce74-41e2-d4e7-5bc0359432f7"
      },
      "execution_count": 4,
      "outputs": [
        {
          "output_type": "stream",
          "name": "stdout",
          "text": [
            "Files already downloaded and verified\n",
            "0.49139968 0.48215827 0.44653124\n",
            "0.24703233 0.24348505 0.26158768\n"
          ]
        }
      ]
    },
    {
      "cell_type": "markdown",
      "metadata": {
        "id": "ky3f_Odl-7um"
      },
      "source": [
        "## Data Transformations\n",
        "\n"
      ]
    },
    {
      "cell_type": "code",
      "metadata": {
        "id": "YtssFUKb-jqx"
      },
      "source": [
        "# Train Phase transformations\n",
        "train_transforms = transforms.Compose([\n",
        "                                       transforms.ToTensor(),\n",
        "                                       transforms.Normalize((0.49139968, 0.48215827, 0.44653124), (0.24703233, 0.24348505, 0.26158768))\n",
        "                                       ])\n",
        "\n",
        "# Test Phase transformations\n",
        "test_transforms = transforms.Compose([\n",
        "                                       transforms.ToTensor(),\n",
        "                                       transforms.Normalize((0.49139968, 0.48215827, 0.44653124), (0.24703233, 0.24348505, 0.26158768))\n",
        "                                       ])\n"
      ],
      "execution_count": 5,
      "outputs": []
    },
    {
      "cell_type": "markdown",
      "metadata": {
        "id": "oQciFYo2B1mO"
      },
      "source": [
        "# Dataset and Creating Train/Test Split"
      ]
    },
    {
      "cell_type": "code",
      "metadata": {
        "id": "_4A84rlfDA23",
        "colab": {
          "base_uri": "https://localhost:8080/"
        },
        "outputId": "0d610038-b6c6-45c0-8423-61bdaad0e503"
      },
      "source": [
        "train = datasets.CIFAR10('./data', train=True, download=True, transform=train_transforms)\n",
        "test = datasets.CIFAR10('./data', train=False, download=True, transform=test_transforms)"
      ],
      "execution_count": 6,
      "outputs": [
        {
          "output_type": "stream",
          "name": "stdout",
          "text": [
            "Files already downloaded and verified\n",
            "Files already downloaded and verified\n"
          ]
        }
      ]
    },
    {
      "cell_type": "markdown",
      "metadata": {
        "id": "qgldp_3-Dn0c"
      },
      "source": [
        "# Dataloader Arguments & Test/Train Dataloaders\n"
      ]
    },
    {
      "cell_type": "code",
      "metadata": {
        "id": "C8OLDR79DrHG",
        "colab": {
          "base_uri": "https://localhost:8080/"
        },
        "outputId": "7cbd7ab3-0fbe-4358-bdb0-46d8e107f4a0"
      },
      "source": [
        "SEED = 1\n",
        "\n",
        "# CUDA?\n",
        "cuda = torch.cuda.is_available()\n",
        "print(\"CUDA Available?\", cuda)\n",
        "\n",
        "# For reproducibility\n",
        "torch.manual_seed(SEED)\n",
        "\n",
        "if cuda:\n",
        "    torch.cuda.manual_seed(SEED)\n",
        "\n",
        "# dataloader arguments\n",
        "dataloader_args = dict(shuffle=True, batch_size=128, num_workers=4, pin_memory=True) if cuda else dict(shuffle=True, batch_size=64)\n",
        "\n",
        "# train dataloader\n",
        "train_loader = torch.utils.data.DataLoader(train, **dataloader_args)\n",
        "\n",
        "# test dataloader\n",
        "test_loader = torch.utils.data.DataLoader(test, **dataloader_args)"
      ],
      "execution_count": 7,
      "outputs": [
        {
          "output_type": "stream",
          "name": "stdout",
          "text": [
            "CUDA Available? True\n"
          ]
        },
        {
          "output_type": "stream",
          "name": "stderr",
          "text": [
            "/usr/local/lib/python3.10/dist-packages/torch/utils/data/dataloader.py:560: UserWarning: This DataLoader will create 4 worker processes in total. Our suggested max number of worker in current system is 2, which is smaller than what this DataLoader is going to create. Please be aware that excessive worker creation might get DataLoader running slow or even freeze, lower the worker number to avoid potential slowness/freeze if necessary.\n",
            "  warnings.warn(_create_warning_msg(\n"
          ]
        }
      ]
    },
    {
      "cell_type": "markdown",
      "metadata": {
        "id": "ubQL3H6RJL3h"
      },
      "source": [
        "# The model"
      ]
    },
    {
      "cell_type": "code",
      "source": [
        "%%writefile model.py\n",
        "import torch\n",
        "import torch.nn as nn\n",
        "import torch.nn.functional as F\n",
        "\n",
        "SEED = 1\n",
        "\n",
        "# CUDA?\n",
        "cuda = torch.cuda.is_available()\n",
        "print(\"CUDA Available?\", cuda)\n",
        "\n",
        "# For reproducibility\n",
        "torch.manual_seed(SEED)\n",
        "\n",
        "if cuda:\n",
        "    torch.cuda.manual_seed(SEED)\n",
        "\n",
        "# S8 Models\n",
        "class S8Model1(nn.Module):\n",
        "    def __init__(self, norm='bn'):\n",
        "\n",
        "        dropout_value = 0.02\n",
        "        GROUP_SIZE = 8\n",
        "\n",
        "        super(Model1, self).__init__()\n",
        "\n",
        "        self.C1 = nn.Sequential(\n",
        "            nn.Conv2d(3, 16, kernel_size=3, stride=1, padding=1, bias=False),\n",
        "            nn.ReLU(),\n",
        "            nn.Dropout(dropout_value))\n",
        "\n",
        "        if norm == 'bn':\n",
        "            self.n1 = nn.BatchNorm2d(16)\n",
        "        elif norm == 'gn':\n",
        "            self.n1 = nn.GroupNorm(GROUP_SIZE, 16)\n",
        "        elif norm == 'ln':\n",
        "            self.n1 = nn.GroupNorm(1, 16)\n",
        "\n",
        "        self.C2 = nn.Sequential(\n",
        "            nn.Conv2d(16, 16, kernel_size=3, stride=1, padding=1, bias=False),\n",
        "            nn.ReLU(),\n",
        "            nn.Dropout(dropout_value))\n",
        "\n",
        "        if norm == 'bn':\n",
        "            self.n2 = nn.BatchNorm2d(16)\n",
        "        elif norm == 'gn':\n",
        "            self.n2 = nn.GroupNorm(GROUP_SIZE, 16)\n",
        "        elif norm == 'ln':\n",
        "            self.n2 = nn.GroupNorm(1, 16)\n",
        "\n",
        "        self.c3t = nn.Sequential(\n",
        "            nn.Conv2d(16, 8, kernel_size=1, stride=1, bias=False),\n",
        "            nn.ReLU(),\n",
        "            nn.Dropout(dropout_value))\n",
        "\n",
        "        if norm == 'bn':\n",
        "            self.n3t = nn.BatchNorm2d(8)\n",
        "        elif norm == 'gn':\n",
        "            self.n3t = nn.GroupNorm(GROUP_SIZE, 8)\n",
        "        elif norm == 'ln':\n",
        "            self.n3t = nn.GroupNorm(1, 8)\n",
        "\n",
        "        self.pool1 = nn.MaxPool2d(kernel_size = 2, stride = 2)\n",
        "\n",
        "        self.C3 = nn.Sequential(\n",
        "            nn.Conv2d(8, 16, kernel_size=3, stride=1, padding=1, bias=False),\n",
        "            nn.ReLU(),\n",
        "            nn.Dropout(dropout_value))\n",
        "\n",
        "        if norm == 'bn':\n",
        "            self.n3 = nn.BatchNorm2d(16)\n",
        "        elif norm == 'gn':\n",
        "            self.n3 = nn.GroupNorm(GROUP_SIZE, 16)\n",
        "        elif norm == 'ln':\n",
        "            self.n3 = nn.GroupNorm(1, 16)\n",
        "\n",
        "\n",
        "        self.C4 = nn.Sequential(\n",
        "            nn.Conv2d(16, 16, kernel_size=3, stride=1, padding=1, bias=False),\n",
        "            nn.ReLU(),\n",
        "            nn.Dropout(dropout_value))\n",
        "\n",
        "        if norm == 'bn':\n",
        "            self.n4 = nn.BatchNorm2d(16)\n",
        "        elif norm == 'gn':\n",
        "            self.n4 = nn.GroupNorm(GROUP_SIZE, 16)\n",
        "        elif norm == 'ln':\n",
        "            self.n4 = nn.GroupNorm(1, 16)\n",
        "\n",
        "        self.C5 = nn.Sequential(\n",
        "            nn.Conv2d(16, 16, kernel_size=3, stride=1, padding=1, bias=False),\n",
        "            nn.ReLU(),\n",
        "            nn.Dropout(dropout_value))\n",
        "\n",
        "        if norm == 'bn':\n",
        "            self.n5 = nn.BatchNorm2d(16)\n",
        "        elif norm == 'gn':\n",
        "            self.n5 = nn.GroupNorm(GROUP_SIZE, 16)\n",
        "        elif norm == 'ln':\n",
        "            self.n5 = nn.GroupNorm(1, 16)\n",
        "\n",
        "        self.c6 = nn.Sequential(\n",
        "            nn.Conv2d(16, 8, kernel_size=1, stride=1, bias=False),\n",
        "            nn.ReLU(),\n",
        "            nn.Dropout(dropout_value))\n",
        "\n",
        "        if norm == 'bn':\n",
        "            self.n6t = nn.BatchNorm2d(8)\n",
        "        elif norm == 'gn':\n",
        "            self.n6t = nn.GroupNorm(GROUP_SIZE, 8)\n",
        "        elif norm == 'ln':\n",
        "            self.n6t = nn.GroupNorm(1, 8)\n",
        "\n",
        "        self.pool2 = nn.MaxPool2d(kernel_size = 2, stride = 2)\n",
        "\n",
        "        self.C7 = nn.Sequential(\n",
        "            nn.Conv2d(8, 16, kernel_size=3, stride=1, padding=1, bias=False),\n",
        "            nn.ReLU(),\n",
        "            nn.Dropout(dropout_value))\n",
        "\n",
        "        if norm == 'bn':\n",
        "            self.n6 = nn.BatchNorm2d(16)\n",
        "        elif norm == 'gn':\n",
        "            self.n6 = nn.GroupNorm(GROUP_SIZE, 16)\n",
        "        elif norm == 'ln':\n",
        "            self.n6 = nn.GroupNorm(1, 16)\n",
        "\n",
        "        self.C8 = nn.Sequential(\n",
        "            nn.Conv2d(16, 16, kernel_size=3, stride=1, padding=1, bias=False),\n",
        "            nn.ReLU(),\n",
        "            nn.Dropout(dropout_value))\n",
        "\n",
        "        if norm == 'bn':\n",
        "            self.n7 = nn.BatchNorm2d(16)\n",
        "        elif norm == 'gn':\n",
        "            self.n7 = nn.GroupNorm(GROUP_SIZE, 16)\n",
        "        elif norm == 'ln':\n",
        "            self.n7 = nn.GroupNorm(1, 16)\n",
        "\n",
        "        self.C9 = nn.Sequential(\n",
        "            nn.Conv2d(16, 16, kernel_size=3, stride=1, padding=1, bias=False))\n",
        "        self.gap = nn.Sequential(\n",
        "            nn.AdaptiveAvgPool2d(1))\n",
        "        self.C10 = nn.Sequential(\n",
        "            nn.Conv2d(16, 10, kernel_size=1, stride=1, bias=False))\n",
        "\n",
        "    def forward(self, x):\n",
        "        x = self.n1(self.C1(x))\n",
        "        x = self.n2(self.C2(x))\n",
        "        x = self.pool1(self.n3t(self.c3t(x)))\n",
        "        skip1 = self.n3(self.C3(x))\n",
        "        x = self.n4(self.C4(skip1))\n",
        "        x = self.n5(self.C5(x) + skip1)\n",
        "        x = self.n6t(self.pool2(self.c6(x)))\n",
        "        skip2 = self.n6(self.C7(x))\n",
        "        x = self.n7(self.C8(skip2))\n",
        "        x = self.C9(x) + skip2\n",
        "        x = self.gap(x)\n",
        "        x = self.C10(x)\n",
        "        x = x.view((x.shape[0],-1))\n",
        "        x = F.log_softmax(x, dim=1)\n",
        "\n",
        "        return x\n",
        "\n",
        "\n",
        "\n",
        "\n",
        "# S7 Models\n",
        "\n",
        "class Model1(nn.Module):\n",
        "    def __init__(self):\n",
        "        super(Model1, self).__init__()\n",
        "        self.layer1 = nn.Sequential(\n",
        "            nn.Conv2d(1, 32, kernel_size=3, stride=1, bias=False),\n",
        "            nn.ReLU())\n",
        "        self.layer2 = nn.Sequential(\n",
        "            nn.Conv2d(32, 32, kernel_size=3, stride=1, bias=False),\n",
        "            nn.ReLU(),\n",
        "            nn.MaxPool2d(kernel_size = 2, stride = 2))\n",
        "        self.layer3 = nn.Sequential(\n",
        "            nn.Conv2d(32, 64, kernel_size=3, stride=1, bias=False),\n",
        "            nn.ReLU())\n",
        "        self.layer4 = nn.Sequential(\n",
        "            nn.Conv2d(64, 64, kernel_size=3, stride=1, bias=False),\n",
        "            nn.ReLU(),\n",
        "            nn.MaxPool2d(kernel_size = 2, stride = 2))\n",
        "        self.layer5 = nn.Sequential(\n",
        "            nn.Conv2d(64, 128, kernel_size=3, stride=1, bias=False),\n",
        "            nn.ReLU())\n",
        "        self.layer6 = nn.Sequential(\n",
        "            nn.Conv2d(128, 10, kernel_size=1, stride=1, bias=False))\n",
        "        self.gap = nn.Sequential(\n",
        "            nn.AdaptiveAvgPool2d(1))\n",
        "\n",
        "    def forward(self, x):\n",
        "        x = self.layer1(x)\n",
        "        x = self.layer2(x)\n",
        "        x = self.layer3(x)\n",
        "        x = self.layer4(x)\n",
        "        x = self.layer5(x)\n",
        "        x = self.layer6(x)\n",
        "        x = self.gap(x)\n",
        "        x = x.view((x.shape[0],-1))\n",
        "        x = F.log_softmax(x, dim=1)\n",
        "\n",
        "        return x\n",
        "\n",
        "class Model2(nn.Module):\n",
        "    def __init__(self):\n",
        "        super(Model2, self).__init__()\n",
        "        self.layer1 = nn.Sequential(\n",
        "            nn.Conv2d(1, 11, kernel_size=3, stride=1, bias=False),\n",
        "            nn.ReLU())\n",
        "        self.layer2 = nn.Sequential(\n",
        "            nn.Conv2d(11, 11, kernel_size=3, stride=1, bias=False),\n",
        "            nn.ReLU(),\n",
        "            nn.MaxPool2d(kernel_size = 2, stride = 2))\n",
        "        self.layer3 = nn.Sequential(\n",
        "            nn.Conv2d(11, 14, kernel_size=3, stride=1, bias=False),\n",
        "            nn.ReLU())\n",
        "        self.layer4 = nn.Sequential(\n",
        "            nn.Conv2d(14, 14, kernel_size=3, stride=1, bias=False),\n",
        "            nn.ReLU(),\n",
        "            nn.MaxPool2d(kernel_size = 2, stride = 2))\n",
        "        self.layer5 = nn.Sequential(\n",
        "            nn.Conv2d(14, 16, kernel_size=3, stride=1, bias=False),\n",
        "            nn.ReLU())\n",
        "        self.layer6 = nn.Sequential(\n",
        "            nn.Conv2d(16, 10, kernel_size=1, stride=1, bias=False))\n",
        "        self.gap = nn.Sequential(\n",
        "            nn.AdaptiveAvgPool2d(1))\n",
        "\n",
        "    def forward(self, x):\n",
        "        x = self.layer1(x)\n",
        "        x = self.layer2(x)\n",
        "        x = self.layer3(x)\n",
        "        x = self.layer4(x)\n",
        "        x = self.layer5(x)\n",
        "        x = self.layer6(x)\n",
        "        x = self.gap(x)\n",
        "        x = x.view((x.shape[0],-1))\n",
        "        x = F.log_softmax(x, dim=1)\n",
        "\n",
        "        return x\n",
        "\n",
        "class Model3(nn.Module):\n",
        "    def __init__(self):\n",
        "        super(Model3, self).__init__()\n",
        "        self.layer1 = nn.Sequential(\n",
        "            nn.Conv2d(1, 11, kernel_size=3, stride=1, bias=False),\n",
        "            nn.BatchNorm2d(11),\n",
        "            nn.ReLU())\n",
        "        self.layer2 = nn.Sequential(\n",
        "            nn.Conv2d(11, 11, kernel_size=3, stride=1, bias=False),\n",
        "            nn.BatchNorm2d(11),\n",
        "            nn.ReLU(),\n",
        "            nn.MaxPool2d(kernel_size = 2, stride = 2))\n",
        "        self.layer3 = nn.Sequential(\n",
        "            nn.Conv2d(11, 14, kernel_size=3, stride=1, bias=False),\n",
        "            nn.BatchNorm2d(14),\n",
        "            nn.ReLU())\n",
        "        self.layer4 = nn.Sequential(\n",
        "            nn.Conv2d(14, 14, kernel_size=3, stride=1, bias=False),\n",
        "            nn.BatchNorm2d(14),\n",
        "            nn.ReLU(),\n",
        "            nn.MaxPool2d(kernel_size = 2, stride = 2))\n",
        "        self.layer5 = nn.Sequential(\n",
        "            nn.Conv2d(14, 16, kernel_size=3, stride=1, bias=False),\n",
        "            nn.BatchNorm2d(16),\n",
        "            nn.ReLU())\n",
        "        self.layer6 = nn.Sequential(\n",
        "            nn.Conv2d(16, 10, kernel_size=1, stride=1, bias=False))\n",
        "        self.gap = nn.Sequential(\n",
        "            nn.AdaptiveAvgPool2d(1))\n",
        "\n",
        "    def forward(self, x):\n",
        "        x = self.layer1(x)\n",
        "        x = self.layer2(x)\n",
        "        x = self.layer3(x)\n",
        "        x = self.layer4(x)\n",
        "        x = self.layer5(x)\n",
        "        x = self.layer6(x)\n",
        "        x = self.gap(x)\n",
        "        x = x.view((x.shape[0],-1))\n",
        "        x = F.log_softmax(x, dim=1)\n",
        "\n",
        "        return x\n",
        "\n",
        "class Model4(nn.Module):\n",
        "    def __init__(self):\n",
        "        dropout_value = 0.01\n",
        "        super(Model4, self).__init__()\n",
        "        self.layer1 = nn.Sequential(\n",
        "            nn.Conv2d(1, 11, kernel_size=3, stride=1, bias=False),\n",
        "            nn.BatchNorm2d(11),\n",
        "            nn.ReLU(),\n",
        "            nn.Dropout(dropout_value))\n",
        "        self.layer2 = nn.Sequential(\n",
        "            nn.Conv2d(11, 11, kernel_size=3, stride=1, bias=False),\n",
        "            nn.BatchNorm2d(11),\n",
        "            nn.ReLU(),\n",
        "            nn.Dropout(dropout_value),\n",
        "            nn.MaxPool2d(kernel_size = 2, stride = 2))\n",
        "        self.layer3 = nn.Sequential(\n",
        "            nn.Conv2d(11, 14, kernel_size=3, stride=1, bias=False),\n",
        "            nn.BatchNorm2d(14),\n",
        "            nn.ReLU(),\n",
        "            nn.Dropout(dropout_value))\n",
        "        self.layer4 = nn.Sequential(\n",
        "            nn.Conv2d(14, 14, kernel_size=3, stride=1, bias=False),\n",
        "            nn.BatchNorm2d(14),\n",
        "            nn.ReLU(),\n",
        "            nn.Dropout(dropout_value),\n",
        "            nn.MaxPool2d(kernel_size = 2, stride = 2))\n",
        "        self.layer5 = nn.Sequential(\n",
        "            nn.Conv2d(14, 16, kernel_size=3, stride=1, bias=False),\n",
        "            nn.BatchNorm2d(16),\n",
        "            nn.ReLU(),\n",
        "            nn.Dropout(dropout_value))\n",
        "        self.layer6 = nn.Sequential(\n",
        "            nn.Conv2d(16, 10, kernel_size=1, stride=1, bias=False))\n",
        "        self.gap = nn.Sequential(\n",
        "            nn.AdaptiveAvgPool2d(1))\n",
        "\n",
        "\n",
        "    def forward(self, x):\n",
        "        x = self.layer1(x)\n",
        "        x = self.layer2(x)\n",
        "        x = self.layer3(x)\n",
        "        x = self.layer4(x)\n",
        "        x = self.layer5(x)\n",
        "        x = self.layer6(x)\n",
        "        x = self.gap(x)\n",
        "        x = x.view((x.shape[0],-1))\n",
        "        x = F.log_softmax(x, dim=1)\n",
        "\n",
        "        return x\n",
        "\n",
        "\n",
        "\n",
        "\n",
        "# S6 Models\n",
        "\n",
        "class Net(nn.Module):\n",
        "    def __init__(self):\n",
        "        super(Net, self).__init__()\n",
        "        self.conv1 = nn.Sequential(\n",
        "                        nn.Conv2d(in_channels=1, out_channels=8, kernel_size=3, padding=1),\n",
        "                        nn.BatchNorm2d(8),\n",
        "                        nn.ReLU(inplace=True)\n",
        "                        )\n",
        "        self.conv2 = nn.Sequential(\n",
        "                        nn.Conv2d(in_channels=8, out_channels=8, kernel_size=3, padding=1),\n",
        "                        nn.BatchNorm2d(8),\n",
        "                        nn.ReLU(inplace=True)\n",
        "                        )\n",
        "        self.conv3 = nn.Sequential(\n",
        "                        nn.Conv2d(in_channels=8, out_channels=8, kernel_size=3, padding=1),\n",
        "                        nn.BatchNorm2d(8),\n",
        "                        nn.ReLU(inplace=True),\n",
        "                        nn.MaxPool2d(kernel_size=2, stride=2)\n",
        "                        )\n",
        "        self.conv4 = nn.Sequential(\n",
        "                        nn.Conv2d(in_channels=8, out_channels=16, kernel_size=3, padding=1),\n",
        "                        nn.BatchNorm2d(16),\n",
        "                        nn.ReLU(inplace=True)\n",
        "                        )\n",
        "        self.conv5 = nn.Sequential(\n",
        "                        nn.Conv2d(in_channels=16, out_channels=16, kernel_size=3, padding=1),\n",
        "                        nn.BatchNorm2d(16) ,\n",
        "                        nn.ReLU(inplace=True),\n",
        "                        nn.MaxPool2d(kernel_size=2, stride=2)\n",
        "                        )\n",
        "        self.conv6 = nn.Sequential(\n",
        "                        nn.Conv2d(in_channels=16, out_channels=32, kernel_size=3, padding=1),\n",
        "                        nn.BatchNorm2d(32),\n",
        "                        nn.ReLU(inplace=True)\n",
        "                        )\n",
        "        self.conv7 = nn.Sequential(\n",
        "                        nn.Conv2d(in_channels=32, out_channels=32, kernel_size=3, padding=1),\n",
        "                        nn.BatchNorm2d(32),\n",
        "                        nn.ReLU(inplace=True),\n",
        "                        nn.MaxPool2d(kernel_size=2, stride=2)\n",
        "                        )\n",
        "        self.conv8 = nn.Conv2d(32,10,1)\n",
        "        self.av = nn.AvgPool2d(3)\n",
        "\n",
        "\n",
        "    def forward(self, x):\n",
        "        x = self.conv1(x)\n",
        "        x = self.conv2(x)\n",
        "        x = self.conv3(x)\n",
        "        x = self.conv4(x)\n",
        "        x = self.conv5(x)\n",
        "        x = self.conv6(x)\n",
        "        x = self.conv7(x)\n",
        "        x = self.conv8(x)\n",
        "        x = self.av(x)\n",
        "        x = x.view((x.shape[0],-1))\n",
        "        x = F.log_softmax(x, dim=1)\n",
        "        return x"
      ],
      "metadata": {
        "colab": {
          "base_uri": "https://localhost:8080/"
        },
        "id": "9QGAgXUnixLh",
        "outputId": "fabfcea9-d46f-4f0e-f7c3-5543e395ff48"
      },
      "execution_count": 16,
      "outputs": [
        {
          "output_type": "stream",
          "name": "stdout",
          "text": [
            "Overwriting model.py\n"
          ]
        }
      ]
    },
    {
      "cell_type": "code",
      "metadata": {
        "id": "7FXQlB9kH1ov",
        "colab": {
          "base_uri": "https://localhost:8080/"
        },
        "outputId": "557a6a64-6290-41ef-e582-1463c8183228"
      },
      "source": [
        "from model import S8Model1 as Net"
      ],
      "execution_count": 9,
      "outputs": [
        {
          "output_type": "stream",
          "name": "stdout",
          "text": [
            "CUDA Available? True\n"
          ]
        }
      ]
    },
    {
      "cell_type": "markdown",
      "metadata": {
        "id": "M3-vp8X9LCWo"
      },
      "source": [
        "# Model Params"
      ]
    },
    {
      "cell_type": "code",
      "metadata": {
        "id": "5skB97zIJQQe",
        "colab": {
          "base_uri": "https://localhost:8080/"
        },
        "outputId": "12e42be1-0cd1-4711-ff97-72f7435b2941"
      },
      "source": [
        "from torchsummary import summary\n",
        "use_cuda = torch.cuda.is_available()\n",
        "device = torch.device(\"cuda\" if use_cuda else \"cpu\")\n",
        "print(device)\n",
        "model = Net(norm='bn').to(device)\n",
        "summary(model, input_size=(3, 32, 32))"
      ],
      "execution_count": 10,
      "outputs": [
        {
          "output_type": "stream",
          "name": "stdout",
          "text": [
            "cuda\n",
            "----------------------------------------------------------------\n",
            "        Layer (type)               Output Shape         Param #\n",
            "================================================================\n",
            "            Conv2d-1           [-1, 16, 32, 32]             432\n",
            "              ReLU-2           [-1, 16, 32, 32]               0\n",
            "           Dropout-3           [-1, 16, 32, 32]               0\n",
            "       BatchNorm2d-4           [-1, 16, 32, 32]              32\n",
            "            Conv2d-5           [-1, 16, 32, 32]           2,304\n",
            "              ReLU-6           [-1, 16, 32, 32]               0\n",
            "           Dropout-7           [-1, 16, 32, 32]               0\n",
            "       BatchNorm2d-8           [-1, 16, 32, 32]              32\n",
            "            Conv2d-9            [-1, 8, 32, 32]             128\n",
            "             ReLU-10            [-1, 8, 32, 32]               0\n",
            "          Dropout-11            [-1, 8, 32, 32]               0\n",
            "      BatchNorm2d-12            [-1, 8, 32, 32]              16\n",
            "        MaxPool2d-13            [-1, 8, 16, 16]               0\n",
            "           Conv2d-14           [-1, 16, 16, 16]           1,152\n",
            "             ReLU-15           [-1, 16, 16, 16]               0\n",
            "          Dropout-16           [-1, 16, 16, 16]               0\n",
            "      BatchNorm2d-17           [-1, 16, 16, 16]              32\n",
            "           Conv2d-18           [-1, 16, 16, 16]           2,304\n",
            "             ReLU-19           [-1, 16, 16, 16]               0\n",
            "          Dropout-20           [-1, 16, 16, 16]               0\n",
            "      BatchNorm2d-21           [-1, 16, 16, 16]              32\n",
            "           Conv2d-22           [-1, 16, 16, 16]           2,304\n",
            "             ReLU-23           [-1, 16, 16, 16]               0\n",
            "          Dropout-24           [-1, 16, 16, 16]               0\n",
            "      BatchNorm2d-25           [-1, 16, 16, 16]              32\n",
            "           Conv2d-26            [-1, 8, 16, 16]             128\n",
            "             ReLU-27            [-1, 8, 16, 16]               0\n",
            "          Dropout-28            [-1, 8, 16, 16]               0\n",
            "        MaxPool2d-29              [-1, 8, 8, 8]               0\n",
            "      BatchNorm2d-30              [-1, 8, 8, 8]              16\n",
            "           Conv2d-31             [-1, 16, 8, 8]           1,152\n",
            "             ReLU-32             [-1, 16, 8, 8]               0\n",
            "          Dropout-33             [-1, 16, 8, 8]               0\n",
            "      BatchNorm2d-34             [-1, 16, 8, 8]              32\n",
            "           Conv2d-35             [-1, 16, 8, 8]           2,304\n",
            "             ReLU-36             [-1, 16, 8, 8]               0\n",
            "          Dropout-37             [-1, 16, 8, 8]               0\n",
            "      BatchNorm2d-38             [-1, 16, 8, 8]              32\n",
            "           Conv2d-39             [-1, 16, 8, 8]           2,304\n",
            "AdaptiveAvgPool2d-40             [-1, 16, 1, 1]               0\n",
            "           Conv2d-41             [-1, 10, 1, 1]             160\n",
            "================================================================\n",
            "Total params: 14,928\n",
            "Trainable params: 14,928\n",
            "Non-trainable params: 0\n",
            "----------------------------------------------------------------\n",
            "Input size (MB): 0.01\n",
            "Forward/backward pass size (MB): 1.77\n",
            "Params size (MB): 0.06\n",
            "Estimated Total Size (MB): 1.83\n",
            "----------------------------------------------------------------\n"
          ]
        }
      ]
    },
    {
      "cell_type": "markdown",
      "metadata": {
        "id": "1__x_SbrL7z3"
      },
      "source": [
        "# Training and Testing\n",
        "\n"
      ]
    },
    {
      "cell_type": "code",
      "source": [
        "%%writefile utils.py\n",
        "import torch\n",
        "from tqdm import tqdm\n",
        "import matplotlib.pyplot as plt\n",
        "import numpy as np\n",
        "\n",
        "\n",
        "class_map = {\n",
        "    0: 'airplane',\n",
        "    1: 'automobile',\n",
        "    2: 'bird',\n",
        "    3: 'cat',\n",
        "    4: 'deer',\n",
        "    5: 'dog',\n",
        "    6: 'frog',\n",
        "    7: 'horse',\n",
        "    8: 'ship',\n",
        "    9: 'truck'\n",
        "}\n",
        "\n",
        "\n",
        "# Data to plot accuracy and loss graphs\n",
        "train_losses = []\n",
        "test_losses = []\n",
        "train_acc = []\n",
        "test_acc = []\n",
        "\n",
        "test_incorrect_pred = {'images': [], 'ground_truths': [], 'predicted_vals': []}\n",
        "\n",
        "def GetCorrectPredCount(pPrediction, pLabels):\n",
        "  return pPrediction.argmax(dim=1).eq(pLabels).sum().item()\n",
        "\n",
        "def train(model, device, train_loader, optimizer, criterion):\n",
        "  model.train()\n",
        "  pbar = tqdm(train_loader)\n",
        "\n",
        "  train_loss = 0\n",
        "  correct = 0\n",
        "  processed = 0\n",
        "\n",
        "  for batch_idx, (data, target) in enumerate(pbar):\n",
        "    data, target = data.to(device), target.to(device)\n",
        "    optimizer.zero_grad()\n",
        "\n",
        "    # Predict\n",
        "    pred = model(data)\n",
        "\n",
        "    # Calculate loss\n",
        "    loss = criterion(pred, target)\n",
        "    train_loss+=loss.item()\n",
        "\n",
        "    # Backpropagation\n",
        "    loss.backward()\n",
        "    optimizer.step()\n",
        "\n",
        "    correct += GetCorrectPredCount(pred, target)\n",
        "    processed += len(data)\n",
        "\n",
        "    pbar.set_description(desc= f'Train: Loss={loss.item():0.4f} Batch_id={batch_idx} Accuracy={100*correct/processed:0.2f}')\n",
        "\n",
        "  train_acc.append(100*correct/processed)\n",
        "  train_losses.append(train_loss/len(train_loader))\n",
        "\n",
        "def test(model, device, test_loader, criterion):\n",
        "    model.eval()\n",
        "\n",
        "    test_loss = 0\n",
        "    correct = 0\n",
        "\n",
        "    with torch.no_grad():\n",
        "        for batch_idx, (data, target) in enumerate(test_loader):\n",
        "            data, target = data.to(device), target.to(device)\n",
        "\n",
        "            output = model(data)\n",
        "            test_loss += criterion(output, target).item()  # sum up batch loss\n",
        "\n",
        "            pred = output.argmax(dim=1)\n",
        "            correct_mask = pred.eq(target)\n",
        "            incorrect_indices = ~correct_mask\n",
        "\n",
        "            test_incorrect_pred['images'].extend(data[incorrect_indices])\n",
        "            test_incorrect_pred['ground_truths'].extend(target[incorrect_indices])\n",
        "            test_incorrect_pred['predicted_vals'].extend(pred[incorrect_indices])\n",
        "\n",
        "            correct += GetCorrectPredCount(output, target)\n",
        "\n",
        "\n",
        "    test_loss /= len(test_loader.dataset)\n",
        "    test_acc.append(100. * correct / len(test_loader.dataset))\n",
        "    test_losses.append(test_loss)\n",
        "\n",
        "    print('Test set: Average loss: {:.4f}, Accuracy: {}/{} ({:.2f}%)\\n'.format(\n",
        "        test_loss, correct, len(test_loader.dataset),\n",
        "        100. * correct / len(test_loader.dataset)))\n",
        "    return test_loss\n",
        "\n",
        "def plot_graph():\n",
        "  fig, axs = plt.subplots(2,2,figsize=(15,10))\n",
        "  axs[0, 0].plot(train_losses)\n",
        "  axs[0, 0].set_title(\"Training Loss\")\n",
        "  axs[1, 0].plot(train_acc)\n",
        "  axs[1, 0].set_title(\"Training Accuracy\")\n",
        "  axs[0, 1].plot(test_losses)\n",
        "  axs[0, 1].set_title(\"Test Loss\")\n",
        "  axs[1, 1].plot(test_acc)\n",
        "  axs[1, 1].set_title(\"Test Accuracy\")\n",
        "\n",
        "from PIL import Image\n",
        "\n",
        "def show_incorrect_images():\n",
        "    num_images = 12\n",
        "    num_rows = 2\n",
        "    num_cols = (num_images + 1) // 2  # Adjust the number of columns based on the number of images\n",
        "\n",
        "    fig, axs = plt.subplots(num_rows, num_cols, figsize=(num_cols * 2, num_rows * 2))\n",
        "\n",
        "    for i in range(num_images):\n",
        "        row_idx = i // num_cols\n",
        "        col_idx = i % num_cols\n",
        "\n",
        "        img = test_incorrect_pred['images'][i].cpu().numpy()\n",
        "        img = np.transpose(img, (1, 2, 0))\n",
        "        img = (img - np.min(img)) / (np.max(img) - np.min(img))  # Normalize the image data\n",
        "        label = test_incorrect_pred['ground_truths'][i].cpu().item()\n",
        "        pred = test_incorrect_pred['predicted_vals'][i].cpu().item()\n",
        "\n",
        "        axs[row_idx, col_idx].imshow(img)\n",
        "        axs[row_idx, col_idx].set_title(f'GT: {class_map[label]}, Pred: {class_map[pred]}')\n",
        "        axs[row_idx, col_idx].axis('off')\n",
        "\n",
        "    plt.tight_layout()\n",
        "    plt.show()"
      ],
      "metadata": {
        "colab": {
          "base_uri": "https://localhost:8080/"
        },
        "id": "toQ6xwNNnsmD",
        "outputId": "5fa9b880-2b13-4b51-8f5c-8b3b00ebb278"
      },
      "execution_count": 11,
      "outputs": [
        {
          "output_type": "stream",
          "name": "stdout",
          "text": [
            "Overwriting utils.py\n"
          ]
        }
      ]
    },
    {
      "cell_type": "markdown",
      "metadata": {
        "id": "drokW8wWODKq"
      },
      "source": [
        "# Let's Train and test our model"
      ]
    },
    {
      "cell_type": "code",
      "metadata": {
        "id": "fbkF2nN_LYIb"
      },
      "source": [
        "from utils import train, test, plot_graph, show_incorrect_images"
      ],
      "execution_count": 12,
      "outputs": []
    },
    {
      "cell_type": "code",
      "metadata": {
        "id": "xMCFxeAKOB53",
        "colab": {
          "base_uri": "https://localhost:8080/"
        },
        "outputId": "aca7c36f-11a1-4463-f7d3-3a1cfc92e5c0"
      },
      "source": [
        "model = Net(norm='bn').to(device)\n",
        "optimizer = optim.SGD(model.parameters(), lr=0.01, momentum=0.9)\n",
        "criterion = F.nll_loss\n",
        "num_epochs = 20\n",
        "scheduler = optim.lr_scheduler.ReduceLROnPlateau(optimizer, patience=1, threshold=1e-2, verbose=True, factor=0.5)\n",
        "\n",
        "\n",
        "for epoch in range(1, num_epochs+1):\n",
        "  print(f'Epoch {epoch}')\n",
        "  train(model, device, train_loader, optimizer, criterion)\n",
        "  test_loss = test(model, device, test_loader, criterion)\n",
        "  scheduler.step(test_loss)"
      ],
      "execution_count": 13,
      "outputs": [
        {
          "output_type": "stream",
          "name": "stdout",
          "text": [
            "Epoch 1\n"
          ]
        },
        {
          "output_type": "stream",
          "name": "stderr",
          "text": [
            "Train: Loss=1.1746 Batch_id=390 Accuracy=41.64: 100%|██████████| 391/391 [00:29<00:00, 13.46it/s]\n"
          ]
        },
        {
          "output_type": "stream",
          "name": "stdout",
          "text": [
            "Test set: Average loss: 0.0104, Accuracy: 5061/10000 (50.61%)\n",
            "\n"
          ]
        }
      ]
    },
    {
      "cell_type": "code",
      "metadata": {
        "id": "87RaqGSEOWDe",
        "colab": {
          "base_uri": "https://localhost:8080/",
          "height": 853
        },
        "outputId": "42ab439d-987f-434e-abf0-0f7e99b43192"
      },
      "source": [
        "plot_graph()"
      ],
      "execution_count": 14,
      "outputs": [
        {
          "output_type": "display_data",
          "data": {
            "text/plain": [
              "<Figure size 1500x1000 with 4 Axes>"
            ],
            "image/png": "[encoded data removed]"
          },
          "metadata": {}
        }
      ]
    },
    {
      "cell_type": "code",
      "source": [
        "show_incorrect_images()"
      ],
      "metadata": {
        "id": "_Pe4tCjirIau",
        "colab": {
          "base_uri": "https://localhost:8080/",
          "height": 410
        },
        "outputId": "219ef200-d5e2-4a33-d74d-2609fcd94a64"
      },
      "execution_count": 15,
      "outputs": [
        {
          "output_type": "display_data",
          "data": {
            "text/plain": [
              "<Figure size 1200x400 with 12 Axes>"
            ],
            "image/png": "[encoded data removed]"
          },
          "metadata": {}
        }
      ]
    },
    {
      "cell_type": "code",
      "source": [],
      "metadata": {
        "id": "d9zAGpvi8BS3"
      },
      "execution_count": null,
      "outputs": []
    }
  ]
}